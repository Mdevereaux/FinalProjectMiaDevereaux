{
 "cells": [
  {
   "cell_type": "markdown",
   "id": "2d886762",
   "metadata": {},
   "source": [
    "# Evaluating Signal-Based Stock Rankings in 2008\n",
    "\n",
    "## Project Goal\n",
    "\n",
    "The goal of this project was to explore whether stock signals can help identify better-performing stocks, especially in challenging market environments like 2008. \n",
    "\n",
    "I tested three signals from the Open Asset Pricing dataset:\n",
    "- AM, AOP, AnalystRevision\n",
    "\n",
    "\n",
    "## Two main datasets provided by the Open Asset Pricing project and CRSP:\n",
    "\n",
    "- **signal2008_sample.csv**  \n",
    "  A sample dataset containing monthly signal values for a subset of individual stocks in 2008.  \n",
    "  This file includes a wide range of predictive signals used to rank stocks each month.\n",
    "\n",
    "- **crsp_2008_2023_rets.csv**  \n",
    "  A dataset containing monthly returns for individual stocks from 2008 to 2023.  \n",
    "  This data was merged with the signal rankings using stock identifiers (permno) and monthly dates to evaluate how signal-based rankings related to actual performance.\n",
    "\n",
    "## Methodology\n",
    "\n",
    "1. I used a sample of stock signal data from 2008.\n",
    "2. I ranked stocks each month based on each signal.\n",
    "3. I merged in return data from CRSP to evaluate actual performance.\n",
    "4. I grouped stocks into five equal groups based on their signal rank.\n",
    "5. I compared the average return of the top 20% (Quantile 5) and bottom 20% (Quantile 1) for each signal.\n",
    "6. I visualized the results using bar charts.\n",
    "\n",
    "## Key Findings\n",
    "\n",
    "- AM signal showed the most consistent results: higher-ranked stocks had smaller losses, suggesting it may have helped reduce downside risk in 2008.\n",
    "- AOP signal had no clear pattern and inconsistent performance.\n",
    "- AnalystRevision signal performed poorly — top-ranked stocks had the worst returns.\n",
    "\n",
    "These results suggest that not all signals are reliable in turbulent markets. However, the AM signal may offer some value in helping a portfolio manager avoid underperforming stocks.\n",
    "\n",
    "\n",
    "## Conclusion\n",
    "\n",
    "While not all signals were useful, this project demonstrates how quantitative techniques can be used to evaluate investment strategies. It also shows the importance of testing signals in different market environments before using them in real portfolios."
   ]
  },
  {
   "cell_type": "code",
   "execution_count": 25,
   "id": "026d2873",
   "metadata": {},
   "outputs": [],
   "source": [
    "# Set up \n",
    "import pandas as pd \n",
    "import numpy as np "
   ]
  },
  {
   "cell_type": "markdown",
   "id": "fc4c5fef",
   "metadata": {},
   "source": [
    "## Step 1: Load and Preview 2008 Signal Sample Data\n",
    "\n",
    "In this step, I load the `signal2008_sample.csv` file to preview the structure of the dataset and inspect what signals are available. This helps me choose which ones I want to analyze in more detail.\n",
    "\n",
    "I used a small sample file first because it’s faster and easier to test with."
   ]
  },
  {
   "cell_type": "code",
   "execution_count": 26,
   "id": "eae725b8",
   "metadata": {},
   "outputs": [
    {
     "data": {
      "text/html": [
       "<div>\n",
       "<style scoped>\n",
       "    .dataframe tbody tr th:only-of-type {\n",
       "        vertical-align: middle;\n",
       "    }\n",
       "\n",
       "    .dataframe tbody tr th {\n",
       "        vertical-align: top;\n",
       "    }\n",
       "\n",
       "    .dataframe thead th {\n",
       "        text-align: right;\n",
       "    }\n",
       "</style>\n",
       "<table border=\"1\" class=\"dataframe\">\n",
       "  <thead>\n",
       "    <tr style=\"text-align: right;\">\n",
       "      <th></th>\n",
       "      <th>permno</th>\n",
       "      <th>yyyymm</th>\n",
       "      <th>AM</th>\n",
       "      <th>AOP</th>\n",
       "      <th>Accruals</th>\n",
       "      <th>AccrualsBM</th>\n",
       "      <th>Activism1</th>\n",
       "      <th>Activism2</th>\n",
       "      <th>AgeIPO</th>\n",
       "      <th>AnalystRevision</th>\n",
       "      <th>...</th>\n",
       "      <th>realestate</th>\n",
       "      <th>retConglomerate</th>\n",
       "      <th>roaq</th>\n",
       "      <th>sfe</th>\n",
       "      <th>skew1</th>\n",
       "      <th>std_turn</th>\n",
       "      <th>tang</th>\n",
       "      <th>zerotrade</th>\n",
       "      <th>zerotradeAlt12</th>\n",
       "      <th>date</th>\n",
       "    </tr>\n",
       "  </thead>\n",
       "  <tbody>\n",
       "    <tr>\n",
       "      <th>0</th>\n",
       "      <td>10032</td>\n",
       "      <td>200801</td>\n",
       "      <td>0.763326</td>\n",
       "      <td>0.52434</td>\n",
       "      <td>-0.014848</td>\n",
       "      <td>NaN</td>\n",
       "      <td>NaN</td>\n",
       "      <td>NaN</td>\n",
       "      <td>NaN</td>\n",
       "      <td>0.994737</td>\n",
       "      <td>...</td>\n",
       "      <td>NaN</td>\n",
       "      <td>NaN</td>\n",
       "      <td>0.029746</td>\n",
       "      <td>NaN</td>\n",
       "      <td>-0.056691</td>\n",
       "      <td>NaN</td>\n",
       "      <td>0.785901</td>\n",
       "      <td>8.105539e-09</td>\n",
       "      <td>7.338935e-09</td>\n",
       "      <td>2008-01-31</td>\n",
       "    </tr>\n",
       "    <tr>\n",
       "      <th>1</th>\n",
       "      <td>10032</td>\n",
       "      <td>200802</td>\n",
       "      <td>0.695966</td>\n",
       "      <td>0.52434</td>\n",
       "      <td>-0.014848</td>\n",
       "      <td>NaN</td>\n",
       "      <td>NaN</td>\n",
       "      <td>NaN</td>\n",
       "      <td>NaN</td>\n",
       "      <td>0.994709</td>\n",
       "      <td>...</td>\n",
       "      <td>NaN</td>\n",
       "      <td>NaN</td>\n",
       "      <td>0.029746</td>\n",
       "      <td>NaN</td>\n",
       "      <td>-0.048161</td>\n",
       "      <td>NaN</td>\n",
       "      <td>0.785901</td>\n",
       "      <td>8.819205e-09</td>\n",
       "      <td>7.487527e-09</td>\n",
       "      <td>2008-02-29</td>\n",
       "    </tr>\n",
       "    <tr>\n",
       "      <th>2</th>\n",
       "      <td>10032</td>\n",
       "      <td>200803</td>\n",
       "      <td>0.748897</td>\n",
       "      <td>0.52434</td>\n",
       "      <td>-0.032580</td>\n",
       "      <td>NaN</td>\n",
       "      <td>NaN</td>\n",
       "      <td>NaN</td>\n",
       "      <td>NaN</td>\n",
       "      <td>1.021277</td>\n",
       "      <td>...</td>\n",
       "      <td>NaN</td>\n",
       "      <td>NaN</td>\n",
       "      <td>0.029770</td>\n",
       "      <td>NaN</td>\n",
       "      <td>-0.058780</td>\n",
       "      <td>NaN</td>\n",
       "      <td>0.774756</td>\n",
       "      <td>8.235955e-09</td>\n",
       "      <td>7.822338e-09</td>\n",
       "      <td>2008-03-31</td>\n",
       "    </tr>\n",
       "    <tr>\n",
       "      <th>3</th>\n",
       "      <td>10032</td>\n",
       "      <td>200804</td>\n",
       "      <td>0.872003</td>\n",
       "      <td>0.52434</td>\n",
       "      <td>-0.032580</td>\n",
       "      <td>NaN</td>\n",
       "      <td>NaN</td>\n",
       "      <td>NaN</td>\n",
       "      <td>NaN</td>\n",
       "      <td>1.000000</td>\n",
       "      <td>...</td>\n",
       "      <td>NaN</td>\n",
       "      <td>NaN</td>\n",
       "      <td>0.029770</td>\n",
       "      <td>NaN</td>\n",
       "      <td>-0.037279</td>\n",
       "      <td>NaN</td>\n",
       "      <td>0.774756</td>\n",
       "      <td>7.870446e-09</td>\n",
       "      <td>8.027040e-09</td>\n",
       "      <td>2008-04-30</td>\n",
       "    </tr>\n",
       "    <tr>\n",
       "      <th>4</th>\n",
       "      <td>10032</td>\n",
       "      <td>200805</td>\n",
       "      <td>0.765690</td>\n",
       "      <td>0.52434</td>\n",
       "      <td>-0.032580</td>\n",
       "      <td>NaN</td>\n",
       "      <td>NaN</td>\n",
       "      <td>NaN</td>\n",
       "      <td>NaN</td>\n",
       "      <td>0.973958</td>\n",
       "      <td>...</td>\n",
       "      <td>NaN</td>\n",
       "      <td>NaN</td>\n",
       "      <td>0.029770</td>\n",
       "      <td>NaN</td>\n",
       "      <td>NaN</td>\n",
       "      <td>NaN</td>\n",
       "      <td>0.774756</td>\n",
       "      <td>8.003802e-09</td>\n",
       "      <td>7.926766e-09</td>\n",
       "      <td>2008-05-31</td>\n",
       "    </tr>\n",
       "  </tbody>\n",
       "</table>\n",
       "<p>5 rows × 170 columns</p>\n",
       "</div>"
      ],
      "text/plain": [
       "   permno  yyyymm        AM      AOP  Accruals  AccrualsBM  Activism1  \\\n",
       "0   10032  200801  0.763326  0.52434 -0.014848         NaN        NaN   \n",
       "1   10032  200802  0.695966  0.52434 -0.014848         NaN        NaN   \n",
       "2   10032  200803  0.748897  0.52434 -0.032580         NaN        NaN   \n",
       "3   10032  200804  0.872003  0.52434 -0.032580         NaN        NaN   \n",
       "4   10032  200805  0.765690  0.52434 -0.032580         NaN        NaN   \n",
       "\n",
       "   Activism2  AgeIPO  AnalystRevision  ...  realestate  retConglomerate  \\\n",
       "0        NaN     NaN         0.994737  ...         NaN              NaN   \n",
       "1        NaN     NaN         0.994709  ...         NaN              NaN   \n",
       "2        NaN     NaN         1.021277  ...         NaN              NaN   \n",
       "3        NaN     NaN         1.000000  ...         NaN              NaN   \n",
       "4        NaN     NaN         0.973958  ...         NaN              NaN   \n",
       "\n",
       "       roaq  sfe     skew1  std_turn      tang     zerotrade  zerotradeAlt12  \\\n",
       "0  0.029746  NaN -0.056691       NaN  0.785901  8.105539e-09    7.338935e-09   \n",
       "1  0.029746  NaN -0.048161       NaN  0.785901  8.819205e-09    7.487527e-09   \n",
       "2  0.029770  NaN -0.058780       NaN  0.774756  8.235955e-09    7.822338e-09   \n",
       "3  0.029770  NaN -0.037279       NaN  0.774756  7.870446e-09    8.027040e-09   \n",
       "4  0.029770  NaN       NaN       NaN  0.774756  8.003802e-09    7.926766e-09   \n",
       "\n",
       "         date  \n",
       "0  2008-01-31  \n",
       "1  2008-02-29  \n",
       "2  2008-03-31  \n",
       "3  2008-04-30  \n",
       "4  2008-05-31  \n",
       "\n",
       "[5 rows x 170 columns]"
      ]
     },
     "execution_count": 26,
     "metadata": {},
     "output_type": "execute_result"
    }
   ],
   "source": [
    "url = 'https://raw.githubusercontent.com/aaiken1/fin-data-analysis-python/main/data/signal2008_sample.csv'\n",
    "\n",
    "df_2008 = pd.read_csv(url)\n",
    "df_2008.head()"
   ]
  },
  {
   "cell_type": "markdown",
   "id": "14578351",
   "metadata": {},
   "source": [
    "## Step 2: Pick Clean Signals and Rank Stocks\n",
    " In this step, I will rank stocks by each signal within each month to prepare for analyzing their return performance."
   ]
  },
  {
   "cell_type": "code",
   "execution_count": 27,
   "id": "15c5b90b",
   "metadata": {},
   "outputs": [
    {
     "data": {
      "text/html": [
       "<div>\n",
       "<style scoped>\n",
       "    .dataframe tbody tr th:only-of-type {\n",
       "        vertical-align: middle;\n",
       "    }\n",
       "\n",
       "    .dataframe tbody tr th {\n",
       "        vertical-align: top;\n",
       "    }\n",
       "\n",
       "    .dataframe thead th {\n",
       "        text-align: right;\n",
       "    }\n",
       "</style>\n",
       "<table border=\"1\" class=\"dataframe\">\n",
       "  <thead>\n",
       "    <tr style=\"text-align: right;\">\n",
       "      <th></th>\n",
       "      <th>permno</th>\n",
       "      <th>yyyymm</th>\n",
       "      <th>AM</th>\n",
       "      <th>AOP</th>\n",
       "      <th>AnalystRevision</th>\n",
       "      <th>AM_rank</th>\n",
       "      <th>AOP_rank</th>\n",
       "      <th>AnalystRevision_rank</th>\n",
       "    </tr>\n",
       "  </thead>\n",
       "  <tbody>\n",
       "    <tr>\n",
       "      <th>0</th>\n",
       "      <td>10032</td>\n",
       "      <td>200801</td>\n",
       "      <td>0.763326</td>\n",
       "      <td>0.52434</td>\n",
       "      <td>0.994737</td>\n",
       "      <td>40.0</td>\n",
       "      <td>1.0</td>\n",
       "      <td>44.0</td>\n",
       "    </tr>\n",
       "    <tr>\n",
       "      <th>1</th>\n",
       "      <td>10032</td>\n",
       "      <td>200802</td>\n",
       "      <td>0.695966</td>\n",
       "      <td>0.52434</td>\n",
       "      <td>0.994709</td>\n",
       "      <td>42.0</td>\n",
       "      <td>1.0</td>\n",
       "      <td>40.0</td>\n",
       "    </tr>\n",
       "    <tr>\n",
       "      <th>2</th>\n",
       "      <td>10032</td>\n",
       "      <td>200803</td>\n",
       "      <td>0.748897</td>\n",
       "      <td>0.52434</td>\n",
       "      <td>1.021277</td>\n",
       "      <td>38.0</td>\n",
       "      <td>1.0</td>\n",
       "      <td>16.0</td>\n",
       "    </tr>\n",
       "    <tr>\n",
       "      <th>3</th>\n",
       "      <td>10032</td>\n",
       "      <td>200804</td>\n",
       "      <td>0.872003</td>\n",
       "      <td>0.52434</td>\n",
       "      <td>1.000000</td>\n",
       "      <td>37.0</td>\n",
       "      <td>1.0</td>\n",
       "      <td>10.0</td>\n",
       "    </tr>\n",
       "    <tr>\n",
       "      <th>4</th>\n",
       "      <td>10032</td>\n",
       "      <td>200805</td>\n",
       "      <td>0.765690</td>\n",
       "      <td>0.52434</td>\n",
       "      <td>0.973958</td>\n",
       "      <td>39.0</td>\n",
       "      <td>1.0</td>\n",
       "      <td>35.0</td>\n",
       "    </tr>\n",
       "  </tbody>\n",
       "</table>\n",
       "</div>"
      ],
      "text/plain": [
       "   permno  yyyymm        AM      AOP  AnalystRevision  AM_rank  AOP_rank  \\\n",
       "0   10032  200801  0.763326  0.52434         0.994737     40.0       1.0   \n",
       "1   10032  200802  0.695966  0.52434         0.994709     42.0       1.0   \n",
       "2   10032  200803  0.748897  0.52434         1.021277     38.0       1.0   \n",
       "3   10032  200804  0.872003  0.52434         1.000000     37.0       1.0   \n",
       "4   10032  200805  0.765690  0.52434         0.973958     39.0       1.0   \n",
       "\n",
       "   AnalystRevision_rank  \n",
       "0                  44.0  \n",
       "1                  40.0  \n",
       "2                  16.0  \n",
       "3                  10.0  \n",
       "4                  35.0  "
      ]
     },
     "execution_count": 27,
     "metadata": {},
     "output_type": "execute_result"
    }
   ],
   "source": [
    "df_ranked = df_2008.copy()\n",
    "\n",
    "# List of signals to rank\n",
    "signals_to_rank = ['AM', 'AOP', 'AnalystRevision']\n",
    "\n",
    "# Rank each stock by signal within each month (higher = better rank)\n",
    "for signal in signals_to_rank:\n",
    "    df_ranked[f'{signal}_rank'] = df_ranked.groupby('yyyymm')[signal].rank(method='first', ascending=False)\n",
    "\n",
    "df_ranked[['permno', 'yyyymm'] + signals_to_rank + [f'{s}_rank' for s in signals_to_rank]].head()"
   ]
  },
  {
   "cell_type": "markdown",
   "id": "dc01eaca",
   "metadata": {},
   "source": [
    "## Step 3: Rank Stocks Within Each Month by Signal\n",
    "\n",
    "I ranked stocks by each selected signal within each month using groupby and rank. \n",
    "This will allow me to later compare the performance of top-ranked vs. bottom-ranked stocks."
   ]
  },
  {
   "cell_type": "markdown",
   "id": "7977d3c2",
   "metadata": {},
   "source": [
    "## Step 4: Bringing in Return Data to Test Signal Effectiveness\n",
    "\n",
    "Now that I’ve ranked stocks by their signal values each month, I will evaluate whether these signals could potentially help a portfolio manager make better investment decisions.\n",
    "I will:\n",
    "- Import monthly stock return data from 2008–2023 (crsp_2008_2023_rets.csv)\n",
    "- Merge this data with my ranked signal dataset using permno and yyyymm\n",
    "- Analyze how stocks ranked highly on each signal performed in the following month\n",
    "\n",
    "This step will help determine whether these signals have any predictive power for returns, which is a key question in my analysis"
   ]
  },
  {
   "cell_type": "code",
   "execution_count": 28,
   "id": "7dfd0764",
   "metadata": {},
   "outputs": [
    {
     "data": {
      "text/html": [
       "<div>\n",
       "<style scoped>\n",
       "    .dataframe tbody tr th:only-of-type {\n",
       "        vertical-align: middle;\n",
       "    }\n",
       "\n",
       "    .dataframe tbody tr th {\n",
       "        vertical-align: top;\n",
       "    }\n",
       "\n",
       "    .dataframe thead th {\n",
       "        text-align: right;\n",
       "    }\n",
       "</style>\n",
       "<table border=\"1\" class=\"dataframe\">\n",
       "  <thead>\n",
       "    <tr style=\"text-align: right;\">\n",
       "      <th></th>\n",
       "      <th>PERMNO</th>\n",
       "      <th>date</th>\n",
       "      <th>TICKER</th>\n",
       "      <th>RET</th>\n",
       "    </tr>\n",
       "  </thead>\n",
       "  <tbody>\n",
       "    <tr>\n",
       "      <th>0</th>\n",
       "      <td>10001</td>\n",
       "      <td>2008-01-31</td>\n",
       "      <td>EWST</td>\n",
       "      <td>-0.006082</td>\n",
       "    </tr>\n",
       "    <tr>\n",
       "      <th>1</th>\n",
       "      <td>10001</td>\n",
       "      <td>2008-02-29</td>\n",
       "      <td>EWST</td>\n",
       "      <td>0.021704</td>\n",
       "    </tr>\n",
       "    <tr>\n",
       "      <th>2</th>\n",
       "      <td>10001</td>\n",
       "      <td>2008-03-31</td>\n",
       "      <td>EWST</td>\n",
       "      <td>-0.052516</td>\n",
       "    </tr>\n",
       "    <tr>\n",
       "      <th>3</th>\n",
       "      <td>10001</td>\n",
       "      <td>2008-04-30</td>\n",
       "      <td>EWST</td>\n",
       "      <td>-0.036698</td>\n",
       "    </tr>\n",
       "    <tr>\n",
       "      <th>4</th>\n",
       "      <td>10001</td>\n",
       "      <td>2008-05-30</td>\n",
       "      <td>EWST</td>\n",
       "      <td>0.271628</td>\n",
       "    </tr>\n",
       "  </tbody>\n",
       "</table>\n",
       "</div>"
      ],
      "text/plain": [
       "   PERMNO        date TICKER        RET\n",
       "0   10001  2008-01-31   EWST  -0.006082\n",
       "1   10001  2008-02-29   EWST   0.021704\n",
       "2   10001  2008-03-31   EWST  -0.052516\n",
       "3   10001  2008-04-30   EWST  -0.036698\n",
       "4   10001  2008-05-30   EWST   0.271628"
      ]
     },
     "execution_count": 28,
     "metadata": {},
     "output_type": "execute_result"
    }
   ],
   "source": [
    "rets_url = 'https://raw.githubusercontent.com/aaiken1/fin-data-analysis-python/refs/heads/main/data/crsp_2008_2023_ret.csv'\n",
    "df_rets = pd.read_csv(rets_url)\n",
    "\n",
    "df_rets.head()"
   ]
  },
  {
   "cell_type": "markdown",
   "id": "0e87353b",
   "metadata": {},
   "source": [
    "## Step 5: Merge Ranked Signals with Return Data\n",
    "\n",
    "In this step, I merge my ranked signal data with actual stock return data using `permno` and date. This allows me to test whether the stocks that ranked highly on a given signal actually went on to perform better (or worse) in that month.\n",
    "\n",
    "To do this, I need to:\n",
    "- Convert the `yyyymm` column from the signals data into a proper date format\n",
    "- Merge it with the CRSP return data using `permno` and `date"
   ]
  },
  {
   "cell_type": "code",
   "execution_count": 29,
   "id": "942b81b7",
   "metadata": {},
   "outputs": [
    {
     "data": {
      "text/html": [
       "<div>\n",
       "<style scoped>\n",
       "    .dataframe tbody tr th:only-of-type {\n",
       "        vertical-align: middle;\n",
       "    }\n",
       "\n",
       "    .dataframe tbody tr th {\n",
       "        vertical-align: top;\n",
       "    }\n",
       "\n",
       "    .dataframe thead th {\n",
       "        text-align: right;\n",
       "    }\n",
       "</style>\n",
       "<table border=\"1\" class=\"dataframe\">\n",
       "  <thead>\n",
       "    <tr style=\"text-align: right;\">\n",
       "      <th></th>\n",
       "      <th>permno</th>\n",
       "      <th>date</th>\n",
       "      <th>RET</th>\n",
       "      <th>AM_rank</th>\n",
       "      <th>AOP_rank</th>\n",
       "      <th>AnalystRevision_rank</th>\n",
       "    </tr>\n",
       "  </thead>\n",
       "  <tbody>\n",
       "    <tr>\n",
       "      <th>0</th>\n",
       "      <td>10032</td>\n",
       "      <td>2008-01-31</td>\n",
       "      <td>-0.139756</td>\n",
       "      <td>40.0</td>\n",
       "      <td>1.0</td>\n",
       "      <td>44.0</td>\n",
       "    </tr>\n",
       "    <tr>\n",
       "      <th>1</th>\n",
       "      <td>10032</td>\n",
       "      <td>2008-02-29</td>\n",
       "      <td>0.096503</td>\n",
       "      <td>42.0</td>\n",
       "      <td>1.0</td>\n",
       "      <td>40.0</td>\n",
       "    </tr>\n",
       "    <tr>\n",
       "      <th>2</th>\n",
       "      <td>10032</td>\n",
       "      <td>2008-03-31</td>\n",
       "      <td>0.132418</td>\n",
       "      <td>38.0</td>\n",
       "      <td>1.0</td>\n",
       "      <td>16.0</td>\n",
       "    </tr>\n",
       "    <tr>\n",
       "      <th>3</th>\n",
       "      <td>10032</td>\n",
       "      <td>2008-04-30</td>\n",
       "      <td>-0.141176</td>\n",
       "      <td>37.0</td>\n",
       "      <td>1.0</td>\n",
       "      <td>10.0</td>\n",
       "    </tr>\n",
       "    <tr>\n",
       "      <th>4</th>\n",
       "      <td>10032</td>\n",
       "      <td>2008-06-30</td>\n",
       "      <td>-0.019483</td>\n",
       "      <td>42.0</td>\n",
       "      <td>16.0</td>\n",
       "      <td>12.0</td>\n",
       "    </tr>\n",
       "  </tbody>\n",
       "</table>\n",
       "</div>"
      ],
      "text/plain": [
       "   permno       date        RET  AM_rank  AOP_rank  AnalystRevision_rank\n",
       "0   10032 2008-01-31  -0.139756     40.0       1.0                  44.0\n",
       "1   10032 2008-02-29   0.096503     42.0       1.0                  40.0\n",
       "2   10032 2008-03-31   0.132418     38.0       1.0                  16.0\n",
       "3   10032 2008-04-30  -0.141176     37.0       1.0                  10.0\n",
       "4   10032 2008-06-30  -0.019483     42.0      16.0                  12.0"
      ]
     },
     "execution_count": 29,
     "metadata": {},
     "output_type": "execute_result"
    }
   ],
   "source": [
    "#Convert yyyymm to proper date format (end of month)\n",
    "df_ranked['date'] = pd.to_datetime(df_ranked['yyyymm'].astype(str), format='%Y%m') + pd.offsets.MonthEnd(0)\n",
    "\n",
    "#  Make sure return data has datetime too\n",
    "df_rets.rename(columns={'PERMNO': 'permno'}, inplace=True)\n",
    "df_rets['date'] = pd.to_datetime(df_rets['date'])  # FIXED LINE HERE ✅\n",
    "\n",
    "df_merged = pd.merge(df_ranked, df_rets, on=['permno', 'date'], how='inner')\n",
    "\n",
    "df_merged[['permno', 'date', 'RET', 'AM_rank', 'AOP_rank', 'AnalystRevision_rank']].head()\n"
   ]
  },
  {
   "cell_type": "markdown",
   "id": "b6789f56",
   "metadata": {},
   "source": [
    "## Step 6: Compare Returns for High vs. Low Ranked Stocks\n",
    "\n",
    "Now that I’ve ranked the stocks, I want to see if the ones with better signal scores actually made more money.\n",
    "\n",
    "To do this, I split the stocks into 5 groups (quintiles) based on their signal rank each month:\n",
    "- Group 5 = top 20% (highest ranked)\n",
    "- Group 1 = bottom 20% (lowest ranked)\n",
    "\n",
    "Then I check the average return for each group. If Group 5 has higher returns than Group 1, it means the signal might be useful.\n"
   ]
  },
  {
   "cell_type": "code",
   "execution_count": 30,
   "id": "7df74e12",
   "metadata": {},
   "outputs": [
    {
     "name": "stdout",
     "output_type": "stream",
     "text": [
      "Average Return by AM Signal Quantile:\n",
      "AM_quantile\n",
      "1   -0.050320\n",
      "2   -0.089315\n",
      "3   -0.041581\n",
      "4   -0.044424\n",
      "5    0.000006\n",
      "Name: RET, dtype: float64\n"
     ]
    },
    {
     "name": "stderr",
     "output_type": "stream",
     "text": [
      "/tmp/ipykernel_16858/2749491508.py:12: FutureWarning: The default of observed=False is deprecated and will be changed to True in a future version of pandas. Pass observed=False to retain current behavior or observed=True to adopt the future default and silence this warning.\n",
      "  am_return_by_quantile = df_merged.groupby('AM_quantile')['RET'].mean()\n"
     ]
    }
   ],
   "source": [
    "# Make sure return column is numeric\n",
    "df_merged['RET'] = pd.to_numeric(df_merged['RET'], errors='coerce')\n",
    "\n",
    "# Define a function to label stocks by signal rank quantile\n",
    "def label_quantiles(x):\n",
    "    return pd.qcut(x, q=5, labels=[1, 2, 3, 4, 5])  # 1 = bottom 20%, 5 = top 20%\n",
    "\n",
    "# Apply to AM rank\n",
    "df_merged['AM_quantile'] = df_merged.groupby('date')['AM_rank'].transform(label_quantiles)\n",
    "\n",
    "# Calculate average return for each quantile\n",
    "am_return_by_quantile = df_merged.groupby('AM_quantile')['RET'].mean()\n",
    "\n",
    "# Display the result\n",
    "print(\"Average Return by AM Signal Quantile:\")\n",
    "print(am_return_by_quantile)"
   ]
  },
  {
   "cell_type": "markdown",
   "id": "7a9daa1b",
   "metadata": {},
   "source": [
    "### What the Results Show (AM Signal)\n",
    "\n",
    "These results show the average return for each group of stocks based on their AM signal rank. Group 5 includes the top 20% of ranked stocks, and Group 1 includes the bottom 20%.\n",
    "\n",
    "In 2008, the stocks ranked **highest** on the AM signal (Quantile 5) had the **least negative or near-zero average returns**, while lower-ranked stocks had more negative returns.\n",
    "\n",
    "This suggests that the AM signal may have helped identify stocks that were more resilient during a difficult market year. In other words, it might have reduced downside risk, which is valuable in a portfolio.\n",
    "\n"
   ]
  },
  {
   "cell_type": "code",
   "execution_count": 31,
   "id": "b5515710",
   "metadata": {},
   "outputs": [
    {
     "name": "stdout",
     "output_type": "stream",
     "text": [
      "Average Return by AOP Signal Quantile:\n",
      "AOP_quantile\n",
      "1   -0.061840\n",
      "2   -0.018705\n",
      "3   -0.043498\n",
      "4   -0.084367\n",
      "5   -0.035663\n",
      "Name: RET, dtype: float64\n"
     ]
    },
    {
     "name": "stderr",
     "output_type": "stream",
     "text": [
      "/tmp/ipykernel_16858/888219367.py:3: FutureWarning: The default of observed=False is deprecated and will be changed to True in a future version of pandas. Pass observed=False to retain current behavior or observed=True to adopt the future default and silence this warning.\n",
      "  aop_return_by_quantile = df_merged.groupby('AOP_quantile')['RET'].mean()\n"
     ]
    }
   ],
   "source": [
    "# For AOP\n",
    "df_merged['AOP_quantile'] = df_merged.groupby('date')['AOP_rank'].transform(label_quantiles)\n",
    "aop_return_by_quantile = df_merged.groupby('AOP_quantile')['RET'].mean()\n",
    "print(\"Average Return by AOP Signal Quantile:\")\n",
    "print(aop_return_by_quantile)"
   ]
  },
  {
   "cell_type": "markdown",
   "id": "6a79ece3",
   "metadata": {},
   "source": [
    "### What the Results Show (AOP Signal)\n",
    "\n",
    "These are the average returns for stocks grouped by their AOP signal rank. The results are less clear compared to the AM signal — there's no consistent pattern where higher-ranked stocks earned better returns.\n",
    "\n",
    "In fact, Quantile 2 (the second-lowest group) had the **least negative average return**, while Quantile 4 (second-highest group) performed the worst.\n",
    "\n",
    "This suggests that, at least in 2008, the AOP signal may not have had strong or consistent predictive power for returns.\n"
   ]
  },
  {
   "cell_type": "code",
   "execution_count": 32,
   "id": "05aa3329",
   "metadata": {},
   "outputs": [
    {
     "name": "stdout",
     "output_type": "stream",
     "text": [
      "Average Return by AnalystRevision Signal Quantile:\n",
      "AnalystRevision_quantile\n",
      "1   -0.039708\n",
      "2   -0.018766\n",
      "3   -0.053868\n",
      "4   -0.040077\n",
      "5   -0.079250\n",
      "Name: RET, dtype: float64\n"
     ]
    },
    {
     "name": "stderr",
     "output_type": "stream",
     "text": [
      "/tmp/ipykernel_16858/3117742473.py:3: FutureWarning: The default of observed=False is deprecated and will be changed to True in a future version of pandas. Pass observed=False to retain current behavior or observed=True to adopt the future default and silence this warning.\n",
      "  rev_return_by_quantile = df_merged.groupby('AnalystRevision_quantile')['RET'].mean()\n"
     ]
    }
   ],
   "source": [
    "# For AnalystRevision\n",
    "df_merged['AnalystRevision_quantile'] = df_merged.groupby('date')['AnalystRevision_rank'].transform(label_quantiles)\n",
    "rev_return_by_quantile = df_merged.groupby('AnalystRevision_quantile')['RET'].mean()\n",
    "print(\"Average Return by AnalystRevision Signal Quantile:\")\n",
    "print(rev_return_by_quantile)"
   ]
  },
  {
   "cell_type": "markdown",
   "id": "00bf6813",
   "metadata": {},
   "source": [
    "### What the Results Show (AnalystRevision Signal)\n",
    "\n",
    "This table shows the average returns for stocks grouped by their AnalystRevision signal rank.\n",
    "\n",
    "In this case, the results are also **not consistent**. The top-ranked stocks (Quantile 5) actually had the **worst average return**, while the second-lowest group (Quantile 2) performed the best.\n",
    "\n",
    "This suggests that the AnalystRevision signal did **not perform well** in predicting higher returns during 2008, and may have been misleading in a volatile market environment.\n"
   ]
  },
  {
   "cell_type": "markdown",
   "id": "385f1f00",
   "metadata": {},
   "source": [
    "## Step 7: Visualize the Results\n",
    "\n",
    "To make my analysis easier to understand, I created bar charts showing the average return for each group (quantile) based on signal rank.\n",
    "\n",
    "If the signal is useful, we would expect higher-ranked groups (especially Quantile 5) to show better performance.\n"
   ]
  },
  {
   "cell_type": "code",
   "execution_count": 33,
   "id": "2675fbd4",
   "metadata": {},
   "outputs": [
    {
     "data": {
      "image/png": "[encoded data removed]",
      "text/plain": [
       "<Figure size 640x480 with 1 Axes>"
      ]
     },
     "metadata": {},
     "output_type": "display_data"
    }
   ],
   "source": [
    "import matplotlib.pyplot as plt\n",
    "\n",
    "# Plot for AM Signal\n",
    "am_return_by_quantile.plot(kind='bar', color='skyblue', edgecolor='black')\n",
    "plt.title('Average Return by AM Signal Rank (Quintiles)')\n",
    "plt.xlabel('AM Signal Quantile')\n",
    "plt.ylabel('Average Return')\n",
    "plt.xticks(rotation=0)\n",
    "plt.grid(axis='y', linestyle='--', alpha=0.7)\n",
    "plt.tight_layout()\n",
    "plt.show()"
   ]
  },
  {
   "cell_type": "markdown",
   "id": "da65dc51",
   "metadata": {},
   "source": [
    "## Step 8: Filter for Large Cap Stocks (Market Cap ≥ $1B)\n",
    "\n",
    "In this step, I calculate the market capitalization of each stock by multiplying its end-of-month price by the number of shares outstanding. This allows me to filter out micro-cap stocks, which are often more volatile and less liquid. Portfolio managers tend to avoid smaller, harder-to-trade stocks, so this filter better reflects real-world investment strategy.\n",
    "\n",
    "I merge this large-cap stock list with my original dataset and re-run the AM signal analysis. The goal is to see whether the AM signal still predicts performance effectively even when limited to larger, more investable companies."
   ]
  },
  {
   "cell_type": "code",
   "execution_count": 34,
   "id": "ec6ecaac",
   "metadata": {},
   "outputs": [
    {
     "name": "stdout",
     "output_type": "stream",
     "text": [
      "✅ Download complete. File saved as: crsp_2008_2023_prc.csv\n"
     ]
    }
   ],
   "source": [
    "import urllib.request\n",
    "\n",
    "# Define the file URL and the name to save it as\n",
    "url = \"https://raw.githubusercontent.com/aaiken1/fin-data-analysis-python/refs/heads/main/data/crsp_2008_2023_prc.csv\"\n",
    "filename = \"crsp_2008_2023_prc.csv\"\n",
    "\n",
    "# Download the file\n",
    "urllib.request.urlretrieve(url, filename)\n",
    "\n",
    "print(\"✅ Download complete. File saved as:\", filename)"
   ]
  },
  {
   "cell_type": "code",
   "execution_count": 35,
   "id": "0bec3a25",
   "metadata": {},
   "outputs": [
    {
     "data": {
      "text/html": [
       "<div>\n",
       "<style scoped>\n",
       "    .dataframe tbody tr th:only-of-type {\n",
       "        vertical-align: middle;\n",
       "    }\n",
       "\n",
       "    .dataframe tbody tr th {\n",
       "        vertical-align: top;\n",
       "    }\n",
       "\n",
       "    .dataframe thead th {\n",
       "        text-align: right;\n",
       "    }\n",
       "</style>\n",
       "<table border=\"1\" class=\"dataframe\">\n",
       "  <thead>\n",
       "    <tr style=\"text-align: right;\">\n",
       "      <th></th>\n",
       "      <th>PERMNO</th>\n",
       "      <th>date</th>\n",
       "      <th>PRC</th>\n",
       "      <th>SHROUT</th>\n",
       "    </tr>\n",
       "  </thead>\n",
       "  <tbody>\n",
       "    <tr>\n",
       "      <th>0</th>\n",
       "      <td>10001</td>\n",
       "      <td>2008-01-31</td>\n",
       "      <td>14.0000</td>\n",
       "      <td>2875.0</td>\n",
       "    </tr>\n",
       "    <tr>\n",
       "      <th>1</th>\n",
       "      <td>10001</td>\n",
       "      <td>2008-02-29</td>\n",
       "      <td>9.4999</td>\n",
       "      <td>4345.0</td>\n",
       "    </tr>\n",
       "    <tr>\n",
       "      <th>2</th>\n",
       "      <td>10001</td>\n",
       "      <td>2008-03-31</td>\n",
       "      <td>8.9650</td>\n",
       "      <td>4347.0</td>\n",
       "    </tr>\n",
       "    <tr>\n",
       "      <th>3</th>\n",
       "      <td>10001</td>\n",
       "      <td>2008-04-30</td>\n",
       "      <td>8.6000</td>\n",
       "      <td>4347.0</td>\n",
       "    </tr>\n",
       "    <tr>\n",
       "      <th>4</th>\n",
       "      <td>10001</td>\n",
       "      <td>2008-05-30</td>\n",
       "      <td>10.9000</td>\n",
       "      <td>4347.0</td>\n",
       "    </tr>\n",
       "  </tbody>\n",
       "</table>\n",
       "</div>"
      ],
      "text/plain": [
       "   PERMNO        date      PRC  SHROUT\n",
       "0   10001  2008-01-31  14.0000  2875.0\n",
       "1   10001  2008-02-29   9.4999  4345.0\n",
       "2   10001  2008-03-31   8.9650  4347.0\n",
       "3   10001  2008-04-30   8.6000  4347.0\n",
       "4   10001  2008-05-30  10.9000  4347.0"
      ]
     },
     "execution_count": 35,
     "metadata": {},
     "output_type": "execute_result"
    }
   ],
   "source": [
    "prc = pd.read_csv(\"crsp_2008_2023_prc.csv\")\n",
    "prc.head() "
   ]
  },
  {
   "cell_type": "markdown",
   "id": "4ab41554",
   "metadata": {},
   "source": [
    "## Step 8: Filter for Large Cap Stocks (Market Cap ≥ $1B)\n",
    "\n",
    "To make this analysis more realistic, I filtered out micro-cap stocks by calculating market capitalization using price × shares outstanding. I excluded firms under $1 billion in market cap. \n",
    "\n",
    "This simulates a portfolio manager’s constraint to focus on more liquid, tradable stocks. I then re-ran the AM signal analysis on this large-cap subset to see if the signal still performed well."
   ]
  },
  {
   "cell_type": "code",
   "execution_count": 39,
   "id": "c2d68186",
   "metadata": {},
   "outputs": [
    {
     "name": "stdout",
     "output_type": "stream",
     "text": [
      "✅ Return data downloaded successfully.\n"
     ]
    }
   ],
   "source": [
    "import urllib.request\n",
    "\n",
    "url_ret = \"https://raw.githubusercontent.com/aaiken1/fin-data-analysis-python/main/data/crsp_2008_2023_ret.csv\"\n",
    "filename_ret = \"crsp_2008_2023_ret.csv\"\n",
    "\n",
    "urllib.request.urlretrieve(url_ret, filename_ret)\n",
    "print(\"✅ Return data downloaded successfully.\")"
   ]
  },
  {
   "cell_type": "code",
   "execution_count": 53,
   "id": "663ba8d0",
   "metadata": {},
   "outputs": [],
   "source": [
    "signals_2008 = pd.read_csv(\"signal2008_sample.csv\")\n",
    "signals_2008.rename(columns={'date': 'month'}, inplace=True)\n",
    "signals_2008['month'] = pd.to_datetime(signals_2008['month'])"
   ]
  },
  {
   "cell_type": "code",
   "execution_count": 54,
   "id": "a05feede",
   "metadata": {},
   "outputs": [],
   "source": [
    "crsp = pd.read_csv(\"crsp_2008_2023_ret.csv\")\n",
    "prc = pd.read_csv(\"crsp_2008_2023_prc.csv\")\n",
    "\n",
    "crsp.rename(columns={'PERMNO': 'permno', 'date': 'month'}, inplace=True)\n",
    "crsp['month'] = pd.to_datetime(crsp['month'])\n",
    "\n",
    "prc.rename(columns={'PERMNO': 'permno', 'date': 'month'}, inplace=True)\n",
    "prc['month'] = pd.to_datetime(prc['month'])"
   ]
  },
  {
   "cell_type": "code",
   "execution_count": 55,
   "id": "376d31be",
   "metadata": {},
   "outputs": [],
   "source": [
    "am_2008 = signals_2008[['permno', 'month', 'AM']]"
   ]
  },
  {
   "cell_type": "code",
   "execution_count": 56,
   "id": "5422ec23",
   "metadata": {},
   "outputs": [],
   "source": [
    "# Merge AM signal with stock return data\n",
    "merged = pd.merge(am_2008, crsp[['permno', 'month', 'RET']], on=['permno', 'month'])\n",
    "merged.rename(columns={'RET': 'ret'}, inplace=True)"
   ]
  },
  {
   "cell_type": "code",
   "execution_count": 57,
   "id": "fda63fda",
   "metadata": {},
   "outputs": [],
   "source": [
    "# Calculate market cap from PRC and SHROUT\n",
    "prc['PRC'] = prc['PRC'].abs()\n",
    "prc['mkt_cap'] = prc['PRC'] * prc['SHROUT'] * 1000\n",
    "\n",
    "# Keep only necessary columns and filter large cap (≥ $1B)\n",
    "prc_clean = prc[['permno', 'month', 'mkt_cap']]\n",
    "large_cap = prc_clean[prc_clean['mkt_cap'] >= 1_000_000_000]"
   ]
  },
  {
   "cell_type": "code",
   "execution_count": 59,
   "id": "f027deeb",
   "metadata": {},
   "outputs": [],
   "source": [
    "merged_large['ret'] = pd.to_numeric(merged_large['ret'], errors='coerce')"
   ]
  },
  {
   "cell_type": "code",
   "execution_count": 60,
   "id": "6c96b44c",
   "metadata": {},
   "outputs": [],
   "source": [
    "avg_returns_large = merged_large.groupby('quantile')['ret'].mean().reset_index()"
   ]
  },
  {
   "cell_type": "code",
   "execution_count": 61,
   "id": "5b11a941",
   "metadata": {},
   "outputs": [
    {
     "ename": "TypeError",
     "evalue": "agg function failed [how->mean,dtype->object]",
     "output_type": "error",
     "traceback": [
      "\u001b[31m---------------------------------------------------------------------------\u001b[39m",
      "\u001b[31mTypeError\u001b[39m                                 Traceback (most recent call last)",
      "\u001b[36mFile \u001b[39m\u001b[32m~/.local/lib/python3.12/site-packages/pandas/core/groupby/groupby.py:1942\u001b[39m, in \u001b[36mGroupBy._agg_py_fallback\u001b[39m\u001b[34m(self, how, values, ndim, alt)\u001b[39m\n\u001b[32m   1941\u001b[39m \u001b[38;5;28;01mtry\u001b[39;00m:\n\u001b[32m-> \u001b[39m\u001b[32m1942\u001b[39m     res_values = \u001b[38;5;28;43mself\u001b[39;49m\u001b[43m.\u001b[49m\u001b[43m_grouper\u001b[49m\u001b[43m.\u001b[49m\u001b[43magg_series\u001b[49m\u001b[43m(\u001b[49m\u001b[43mser\u001b[49m\u001b[43m,\u001b[49m\u001b[43m \u001b[49m\u001b[43malt\u001b[49m\u001b[43m,\u001b[49m\u001b[43m \u001b[49m\u001b[43mpreserve_dtype\u001b[49m\u001b[43m=\u001b[49m\u001b[38;5;28;43;01mTrue\u001b[39;49;00m\u001b[43m)\u001b[49m\n\u001b[32m   1943\u001b[39m \u001b[38;5;28;01mexcept\u001b[39;00m \u001b[38;5;167;01mException\u001b[39;00m \u001b[38;5;28;01mas\u001b[39;00m err:\n",
      "\u001b[36mFile \u001b[39m\u001b[32m~/.local/lib/python3.12/site-packages/pandas/core/groupby/ops.py:864\u001b[39m, in \u001b[36mBaseGrouper.agg_series\u001b[39m\u001b[34m(self, obj, func, preserve_dtype)\u001b[39m\n\u001b[32m    862\u001b[39m     preserve_dtype = \u001b[38;5;28;01mTrue\u001b[39;00m\n\u001b[32m--> \u001b[39m\u001b[32m864\u001b[39m result = \u001b[38;5;28;43mself\u001b[39;49m\u001b[43m.\u001b[49m\u001b[43m_aggregate_series_pure_python\u001b[49m\u001b[43m(\u001b[49m\u001b[43mobj\u001b[49m\u001b[43m,\u001b[49m\u001b[43m \u001b[49m\u001b[43mfunc\u001b[49m\u001b[43m)\u001b[49m\n\u001b[32m    866\u001b[39m npvalues = lib.maybe_convert_objects(result, try_float=\u001b[38;5;28;01mFalse\u001b[39;00m)\n",
      "\u001b[36mFile \u001b[39m\u001b[32m~/.local/lib/python3.12/site-packages/pandas/core/groupby/ops.py:885\u001b[39m, in \u001b[36mBaseGrouper._aggregate_series_pure_python\u001b[39m\u001b[34m(self, obj, func)\u001b[39m\n\u001b[32m    884\u001b[39m \u001b[38;5;28;01mfor\u001b[39;00m i, group \u001b[38;5;129;01min\u001b[39;00m \u001b[38;5;28menumerate\u001b[39m(splitter):\n\u001b[32m--> \u001b[39m\u001b[32m885\u001b[39m     res = \u001b[43mfunc\u001b[49m\u001b[43m(\u001b[49m\u001b[43mgroup\u001b[49m\u001b[43m)\u001b[49m\n\u001b[32m    886\u001b[39m     res = extract_result(res)\n",
      "\u001b[36mFile \u001b[39m\u001b[32m~/.local/lib/python3.12/site-packages/pandas/core/groupby/groupby.py:2454\u001b[39m, in \u001b[36mGroupBy.mean.<locals>.<lambda>\u001b[39m\u001b[34m(x)\u001b[39m\n\u001b[32m   2451\u001b[39m \u001b[38;5;28;01melse\u001b[39;00m:\n\u001b[32m   2452\u001b[39m     result = \u001b[38;5;28mself\u001b[39m._cython_agg_general(\n\u001b[32m   2453\u001b[39m         \u001b[33m\"\u001b[39m\u001b[33mmean\u001b[39m\u001b[33m\"\u001b[39m,\n\u001b[32m-> \u001b[39m\u001b[32m2454\u001b[39m         alt=\u001b[38;5;28;01mlambda\u001b[39;00m x: \u001b[43mSeries\u001b[49m\u001b[43m(\u001b[49m\u001b[43mx\u001b[49m\u001b[43m,\u001b[49m\u001b[43m \u001b[49m\u001b[43mcopy\u001b[49m\u001b[43m=\u001b[49m\u001b[38;5;28;43;01mFalse\u001b[39;49;00m\u001b[43m)\u001b[49m\u001b[43m.\u001b[49m\u001b[43mmean\u001b[49m\u001b[43m(\u001b[49m\u001b[43mnumeric_only\u001b[49m\u001b[43m=\u001b[49m\u001b[43mnumeric_only\u001b[49m\u001b[43m)\u001b[49m,\n\u001b[32m   2455\u001b[39m         numeric_only=numeric_only,\n\u001b[32m   2456\u001b[39m     )\n\u001b[32m   2457\u001b[39m     \u001b[38;5;28;01mreturn\u001b[39;00m result.__finalize__(\u001b[38;5;28mself\u001b[39m.obj, method=\u001b[33m\"\u001b[39m\u001b[33mgroupby\u001b[39m\u001b[33m\"\u001b[39m)\n",
      "\u001b[36mFile \u001b[39m\u001b[32m~/.local/lib/python3.12/site-packages/pandas/core/series.py:6549\u001b[39m, in \u001b[36mSeries.mean\u001b[39m\u001b[34m(self, axis, skipna, numeric_only, **kwargs)\u001b[39m\n\u001b[32m   6541\u001b[39m \u001b[38;5;129m@doc\u001b[39m(make_doc(\u001b[33m\"\u001b[39m\u001b[33mmean\u001b[39m\u001b[33m\"\u001b[39m, ndim=\u001b[32m1\u001b[39m))\n\u001b[32m   6542\u001b[39m \u001b[38;5;28;01mdef\u001b[39;00m\u001b[38;5;250m \u001b[39m\u001b[34mmean\u001b[39m(\n\u001b[32m   6543\u001b[39m     \u001b[38;5;28mself\u001b[39m,\n\u001b[32m   (...)\u001b[39m\u001b[32m   6547\u001b[39m     **kwargs,\n\u001b[32m   6548\u001b[39m ):\n\u001b[32m-> \u001b[39m\u001b[32m6549\u001b[39m     \u001b[38;5;28;01mreturn\u001b[39;00m \u001b[43mNDFrame\u001b[49m\u001b[43m.\u001b[49m\u001b[43mmean\u001b[49m\u001b[43m(\u001b[49m\u001b[38;5;28;43mself\u001b[39;49m\u001b[43m,\u001b[49m\u001b[43m \u001b[49m\u001b[43maxis\u001b[49m\u001b[43m,\u001b[49m\u001b[43m \u001b[49m\u001b[43mskipna\u001b[49m\u001b[43m,\u001b[49m\u001b[43m \u001b[49m\u001b[43mnumeric_only\u001b[49m\u001b[43m,\u001b[49m\u001b[43m \u001b[49m\u001b[43m*\u001b[49m\u001b[43m*\u001b[49m\u001b[43mkwargs\u001b[49m\u001b[43m)\u001b[49m\n",
      "\u001b[36mFile \u001b[39m\u001b[32m~/.local/lib/python3.12/site-packages/pandas/core/generic.py:12420\u001b[39m, in \u001b[36mNDFrame.mean\u001b[39m\u001b[34m(self, axis, skipna, numeric_only, **kwargs)\u001b[39m\n\u001b[32m  12413\u001b[39m \u001b[38;5;28;01mdef\u001b[39;00m\u001b[38;5;250m \u001b[39m\u001b[34mmean\u001b[39m(\n\u001b[32m  12414\u001b[39m     \u001b[38;5;28mself\u001b[39m,\n\u001b[32m  12415\u001b[39m     axis: Axis | \u001b[38;5;28;01mNone\u001b[39;00m = \u001b[32m0\u001b[39m,\n\u001b[32m   (...)\u001b[39m\u001b[32m  12418\u001b[39m     **kwargs,\n\u001b[32m  12419\u001b[39m ) -> Series | \u001b[38;5;28mfloat\u001b[39m:\n\u001b[32m> \u001b[39m\u001b[32m12420\u001b[39m     \u001b[38;5;28;01mreturn\u001b[39;00m \u001b[38;5;28;43mself\u001b[39;49m\u001b[43m.\u001b[49m\u001b[43m_stat_function\u001b[49m\u001b[43m(\u001b[49m\n\u001b[32m  12421\u001b[39m \u001b[43m        \u001b[49m\u001b[33;43m\"\u001b[39;49m\u001b[33;43mmean\u001b[39;49m\u001b[33;43m\"\u001b[39;49m\u001b[43m,\u001b[49m\u001b[43m \u001b[49m\u001b[43mnanops\u001b[49m\u001b[43m.\u001b[49m\u001b[43mnanmean\u001b[49m\u001b[43m,\u001b[49m\u001b[43m \u001b[49m\u001b[43maxis\u001b[49m\u001b[43m,\u001b[49m\u001b[43m \u001b[49m\u001b[43mskipna\u001b[49m\u001b[43m,\u001b[49m\u001b[43m \u001b[49m\u001b[43mnumeric_only\u001b[49m\u001b[43m,\u001b[49m\u001b[43m \u001b[49m\u001b[43m*\u001b[49m\u001b[43m*\u001b[49m\u001b[43mkwargs\u001b[49m\n\u001b[32m  12422\u001b[39m \u001b[43m    \u001b[49m\u001b[43m)\u001b[49m\n",
      "\u001b[36mFile \u001b[39m\u001b[32m~/.local/lib/python3.12/site-packages/pandas/core/generic.py:12377\u001b[39m, in \u001b[36mNDFrame._stat_function\u001b[39m\u001b[34m(self, name, func, axis, skipna, numeric_only, **kwargs)\u001b[39m\n\u001b[32m  12375\u001b[39m validate_bool_kwarg(skipna, \u001b[33m\"\u001b[39m\u001b[33mskipna\u001b[39m\u001b[33m\"\u001b[39m, none_allowed=\u001b[38;5;28;01mFalse\u001b[39;00m)\n\u001b[32m> \u001b[39m\u001b[32m12377\u001b[39m \u001b[38;5;28;01mreturn\u001b[39;00m \u001b[38;5;28;43mself\u001b[39;49m\u001b[43m.\u001b[49m\u001b[43m_reduce\u001b[49m\u001b[43m(\u001b[49m\n\u001b[32m  12378\u001b[39m \u001b[43m    \u001b[49m\u001b[43mfunc\u001b[49m\u001b[43m,\u001b[49m\u001b[43m \u001b[49m\u001b[43mname\u001b[49m\u001b[43m=\u001b[49m\u001b[43mname\u001b[49m\u001b[43m,\u001b[49m\u001b[43m \u001b[49m\u001b[43maxis\u001b[49m\u001b[43m=\u001b[49m\u001b[43maxis\u001b[49m\u001b[43m,\u001b[49m\u001b[43m \u001b[49m\u001b[43mskipna\u001b[49m\u001b[43m=\u001b[49m\u001b[43mskipna\u001b[49m\u001b[43m,\u001b[49m\u001b[43m \u001b[49m\u001b[43mnumeric_only\u001b[49m\u001b[43m=\u001b[49m\u001b[43mnumeric_only\u001b[49m\n\u001b[32m  12379\u001b[39m \u001b[43m\u001b[49m\u001b[43m)\u001b[49m\n",
      "\u001b[36mFile \u001b[39m\u001b[32m~/.local/lib/python3.12/site-packages/pandas/core/series.py:6457\u001b[39m, in \u001b[36mSeries._reduce\u001b[39m\u001b[34m(self, op, name, axis, skipna, numeric_only, filter_type, **kwds)\u001b[39m\n\u001b[32m   6453\u001b[39m     \u001b[38;5;28;01mraise\u001b[39;00m \u001b[38;5;167;01mTypeError\u001b[39;00m(\n\u001b[32m   6454\u001b[39m         \u001b[33mf\u001b[39m\u001b[33m\"\u001b[39m\u001b[33mSeries.\u001b[39m\u001b[38;5;132;01m{\u001b[39;00mname\u001b[38;5;132;01m}\u001b[39;00m\u001b[33m does not allow \u001b[39m\u001b[38;5;132;01m{\u001b[39;00mkwd_name\u001b[38;5;132;01m}\u001b[39;00m\u001b[33m=\u001b[39m\u001b[38;5;132;01m{\u001b[39;00mnumeric_only\u001b[38;5;132;01m}\u001b[39;00m\u001b[33m \u001b[39m\u001b[33m\"\u001b[39m\n\u001b[32m   6455\u001b[39m         \u001b[33m\"\u001b[39m\u001b[33mwith non-numeric dtypes.\u001b[39m\u001b[33m\"\u001b[39m\n\u001b[32m   6456\u001b[39m     )\n\u001b[32m-> \u001b[39m\u001b[32m6457\u001b[39m \u001b[38;5;28;01mreturn\u001b[39;00m \u001b[43mop\u001b[49m\u001b[43m(\u001b[49m\u001b[43mdelegate\u001b[49m\u001b[43m,\u001b[49m\u001b[43m \u001b[49m\u001b[43mskipna\u001b[49m\u001b[43m=\u001b[49m\u001b[43mskipna\u001b[49m\u001b[43m,\u001b[49m\u001b[43m \u001b[49m\u001b[43m*\u001b[49m\u001b[43m*\u001b[49m\u001b[43mkwds\u001b[49m\u001b[43m)\u001b[49m\n",
      "\u001b[36mFile \u001b[39m\u001b[32m~/.local/lib/python3.12/site-packages/pandas/core/nanops.py:147\u001b[39m, in \u001b[36mbottleneck_switch.__call__.<locals>.f\u001b[39m\u001b[34m(values, axis, skipna, **kwds)\u001b[39m\n\u001b[32m    146\u001b[39m \u001b[38;5;28;01melse\u001b[39;00m:\n\u001b[32m--> \u001b[39m\u001b[32m147\u001b[39m     result = \u001b[43malt\u001b[49m\u001b[43m(\u001b[49m\u001b[43mvalues\u001b[49m\u001b[43m,\u001b[49m\u001b[43m \u001b[49m\u001b[43maxis\u001b[49m\u001b[43m=\u001b[49m\u001b[43maxis\u001b[49m\u001b[43m,\u001b[49m\u001b[43m \u001b[49m\u001b[43mskipna\u001b[49m\u001b[43m=\u001b[49m\u001b[43mskipna\u001b[49m\u001b[43m,\u001b[49m\u001b[43m \u001b[49m\u001b[43m*\u001b[49m\u001b[43m*\u001b[49m\u001b[43mkwds\u001b[49m\u001b[43m)\u001b[49m\n\u001b[32m    149\u001b[39m \u001b[38;5;28;01mreturn\u001b[39;00m result\n",
      "\u001b[36mFile \u001b[39m\u001b[32m~/.local/lib/python3.12/site-packages/pandas/core/nanops.py:404\u001b[39m, in \u001b[36m_datetimelike_compat.<locals>.new_func\u001b[39m\u001b[34m(values, axis, skipna, mask, **kwargs)\u001b[39m\n\u001b[32m    402\u001b[39m     mask = isna(values)\n\u001b[32m--> \u001b[39m\u001b[32m404\u001b[39m result = \u001b[43mfunc\u001b[49m\u001b[43m(\u001b[49m\u001b[43mvalues\u001b[49m\u001b[43m,\u001b[49m\u001b[43m \u001b[49m\u001b[43maxis\u001b[49m\u001b[43m=\u001b[49m\u001b[43maxis\u001b[49m\u001b[43m,\u001b[49m\u001b[43m \u001b[49m\u001b[43mskipna\u001b[49m\u001b[43m=\u001b[49m\u001b[43mskipna\u001b[49m\u001b[43m,\u001b[49m\u001b[43m \u001b[49m\u001b[43mmask\u001b[49m\u001b[43m=\u001b[49m\u001b[43mmask\u001b[49m\u001b[43m,\u001b[49m\u001b[43m \u001b[49m\u001b[43m*\u001b[49m\u001b[43m*\u001b[49m\u001b[43mkwargs\u001b[49m\u001b[43m)\u001b[49m\n\u001b[32m    406\u001b[39m \u001b[38;5;28;01mif\u001b[39;00m datetimelike:\n",
      "\u001b[36mFile \u001b[39m\u001b[32m~/.local/lib/python3.12/site-packages/pandas/core/nanops.py:720\u001b[39m, in \u001b[36mnanmean\u001b[39m\u001b[34m(values, axis, skipna, mask)\u001b[39m\n\u001b[32m    719\u001b[39m the_sum = values.sum(axis, dtype=dtype_sum)\n\u001b[32m--> \u001b[39m\u001b[32m720\u001b[39m the_sum = \u001b[43m_ensure_numeric\u001b[49m\u001b[43m(\u001b[49m\u001b[43mthe_sum\u001b[49m\u001b[43m)\u001b[49m\n\u001b[32m    722\u001b[39m \u001b[38;5;28;01mif\u001b[39;00m axis \u001b[38;5;129;01mis\u001b[39;00m \u001b[38;5;129;01mnot\u001b[39;00m \u001b[38;5;28;01mNone\u001b[39;00m \u001b[38;5;129;01mand\u001b[39;00m \u001b[38;5;28mgetattr\u001b[39m(the_sum, \u001b[33m\"\u001b[39m\u001b[33mndim\u001b[39m\u001b[33m\"\u001b[39m, \u001b[38;5;28;01mFalse\u001b[39;00m):\n",
      "\u001b[36mFile \u001b[39m\u001b[32m~/.local/lib/python3.12/site-packages/pandas/core/nanops.py:1701\u001b[39m, in \u001b[36m_ensure_numeric\u001b[39m\u001b[34m(x)\u001b[39m\n\u001b[32m   1699\u001b[39m \u001b[38;5;28;01mif\u001b[39;00m \u001b[38;5;28misinstance\u001b[39m(x, \u001b[38;5;28mstr\u001b[39m):\n\u001b[32m   1700\u001b[39m     \u001b[38;5;66;03m# GH#44008, GH#36703 avoid casting e.g. strings to numeric\u001b[39;00m\n\u001b[32m-> \u001b[39m\u001b[32m1701\u001b[39m     \u001b[38;5;28;01mraise\u001b[39;00m \u001b[38;5;167;01mTypeError\u001b[39;00m(\u001b[33mf\u001b[39m\u001b[33m\"\u001b[39m\u001b[33mCould not convert string \u001b[39m\u001b[33m'\u001b[39m\u001b[38;5;132;01m{\u001b[39;00mx\u001b[38;5;132;01m}\u001b[39;00m\u001b[33m'\u001b[39m\u001b[33m to numeric\u001b[39m\u001b[33m\"\u001b[39m)\n\u001b[32m   1702\u001b[39m \u001b[38;5;28;01mtry\u001b[39;00m:\n",
      "\u001b[31mTypeError\u001b[39m: Could not convert string '-0.146552-0.0311630.0011090.531797-0.1951550.071550-0.259628-0.014529-0.024722-0.2674350.1543750.964593-0.246469-0.1756100.137101-0.068238-0.268278-0.0705750.032342-0.100409-0.142116-0.081050-0.124280-0.186860-0.153200-0.1136780.011795' to numeric",
      "\nThe above exception was the direct cause of the following exception:\n",
      "\u001b[31mTypeError\u001b[39m                                 Traceback (most recent call last)",
      "\u001b[36mCell\u001b[39m\u001b[36m \u001b[39m\u001b[32mIn[61]\u001b[39m\u001b[32m, line 10\u001b[39m\n\u001b[32m      5\u001b[39m merged_large[\u001b[33m'\u001b[39m\u001b[33mquantile\u001b[39m\u001b[33m'\u001b[39m] = merged_large.groupby(\u001b[33m'\u001b[39m\u001b[33mmonth\u001b[39m\u001b[33m'\u001b[39m)[\u001b[33m'\u001b[39m\u001b[33mAM\u001b[39m\u001b[33m'\u001b[39m].transform(\n\u001b[32m      6\u001b[39m     \u001b[38;5;28;01mlambda\u001b[39;00m x: pd.qcut(x, \u001b[32m5\u001b[39m, labels=\u001b[38;5;28;01mFalse\u001b[39;00m, duplicates=\u001b[33m'\u001b[39m\u001b[33mdrop\u001b[39m\u001b[33m'\u001b[39m) + \u001b[32m1\u001b[39m\n\u001b[32m      7\u001b[39m )\n\u001b[32m      9\u001b[39m \u001b[38;5;66;03m# Calculate average returns per quantile\u001b[39;00m\n\u001b[32m---> \u001b[39m\u001b[32m10\u001b[39m avg_returns_large = \u001b[43mmerged_large\u001b[49m\u001b[43m.\u001b[49m\u001b[43mgroupby\u001b[49m\u001b[43m(\u001b[49m\u001b[33;43m'\u001b[39;49m\u001b[33;43mquantile\u001b[39;49m\u001b[33;43m'\u001b[39;49m\u001b[43m)\u001b[49m\u001b[43m[\u001b[49m\u001b[33;43m'\u001b[39;49m\u001b[33;43mret\u001b[39;49m\u001b[33;43m'\u001b[39;49m\u001b[43m]\u001b[49m\u001b[43m.\u001b[49m\u001b[43mmean\u001b[49m\u001b[43m(\u001b[49m\u001b[43m)\u001b[49m.reset_index()\n",
      "\u001b[36mFile \u001b[39m\u001b[32m~/.local/lib/python3.12/site-packages/pandas/core/groupby/groupby.py:2452\u001b[39m, in \u001b[36mGroupBy.mean\u001b[39m\u001b[34m(self, numeric_only, engine, engine_kwargs)\u001b[39m\n\u001b[32m   2445\u001b[39m     \u001b[38;5;28;01mreturn\u001b[39;00m \u001b[38;5;28mself\u001b[39m._numba_agg_general(\n\u001b[32m   2446\u001b[39m         grouped_mean,\n\u001b[32m   2447\u001b[39m         executor.float_dtype_mapping,\n\u001b[32m   2448\u001b[39m         engine_kwargs,\n\u001b[32m   2449\u001b[39m         min_periods=\u001b[32m0\u001b[39m,\n\u001b[32m   2450\u001b[39m     )\n\u001b[32m   2451\u001b[39m \u001b[38;5;28;01melse\u001b[39;00m:\n\u001b[32m-> \u001b[39m\u001b[32m2452\u001b[39m     result = \u001b[38;5;28;43mself\u001b[39;49m\u001b[43m.\u001b[49m\u001b[43m_cython_agg_general\u001b[49m\u001b[43m(\u001b[49m\n\u001b[32m   2453\u001b[39m \u001b[43m        \u001b[49m\u001b[33;43m\"\u001b[39;49m\u001b[33;43mmean\u001b[39;49m\u001b[33;43m\"\u001b[39;49m\u001b[43m,\u001b[49m\n\u001b[32m   2454\u001b[39m \u001b[43m        \u001b[49m\u001b[43malt\u001b[49m\u001b[43m=\u001b[49m\u001b[38;5;28;43;01mlambda\u001b[39;49;00m\u001b[43m \u001b[49m\u001b[43mx\u001b[49m\u001b[43m:\u001b[49m\u001b[43m \u001b[49m\u001b[43mSeries\u001b[49m\u001b[43m(\u001b[49m\u001b[43mx\u001b[49m\u001b[43m,\u001b[49m\u001b[43m \u001b[49m\u001b[43mcopy\u001b[49m\u001b[43m=\u001b[49m\u001b[38;5;28;43;01mFalse\u001b[39;49;00m\u001b[43m)\u001b[49m\u001b[43m.\u001b[49m\u001b[43mmean\u001b[49m\u001b[43m(\u001b[49m\u001b[43mnumeric_only\u001b[49m\u001b[43m=\u001b[49m\u001b[43mnumeric_only\u001b[49m\u001b[43m)\u001b[49m\u001b[43m,\u001b[49m\n\u001b[32m   2455\u001b[39m \u001b[43m        \u001b[49m\u001b[43mnumeric_only\u001b[49m\u001b[43m=\u001b[49m\u001b[43mnumeric_only\u001b[49m\u001b[43m,\u001b[49m\n\u001b[32m   2456\u001b[39m \u001b[43m    \u001b[49m\u001b[43m)\u001b[49m\n\u001b[32m   2457\u001b[39m     \u001b[38;5;28;01mreturn\u001b[39;00m result.__finalize__(\u001b[38;5;28mself\u001b[39m.obj, method=\u001b[33m\"\u001b[39m\u001b[33mgroupby\u001b[39m\u001b[33m\"\u001b[39m)\n",
      "\u001b[36mFile \u001b[39m\u001b[32m~/.local/lib/python3.12/site-packages/pandas/core/groupby/groupby.py:1998\u001b[39m, in \u001b[36mGroupBy._cython_agg_general\u001b[39m\u001b[34m(self, how, alt, numeric_only, min_count, **kwargs)\u001b[39m\n\u001b[32m   1995\u001b[39m     result = \u001b[38;5;28mself\u001b[39m._agg_py_fallback(how, values, ndim=data.ndim, alt=alt)\n\u001b[32m   1996\u001b[39m     \u001b[38;5;28;01mreturn\u001b[39;00m result\n\u001b[32m-> \u001b[39m\u001b[32m1998\u001b[39m new_mgr = \u001b[43mdata\u001b[49m\u001b[43m.\u001b[49m\u001b[43mgrouped_reduce\u001b[49m\u001b[43m(\u001b[49m\u001b[43marray_func\u001b[49m\u001b[43m)\u001b[49m\n\u001b[32m   1999\u001b[39m res = \u001b[38;5;28mself\u001b[39m._wrap_agged_manager(new_mgr)\n\u001b[32m   2000\u001b[39m \u001b[38;5;28;01mif\u001b[39;00m how \u001b[38;5;129;01min\u001b[39;00m [\u001b[33m\"\u001b[39m\u001b[33midxmin\u001b[39m\u001b[33m\"\u001b[39m, \u001b[33m\"\u001b[39m\u001b[33midxmax\u001b[39m\u001b[33m\"\u001b[39m]:\n",
      "\u001b[36mFile \u001b[39m\u001b[32m~/.local/lib/python3.12/site-packages/pandas/core/internals/base.py:367\u001b[39m, in \u001b[36mSingleDataManager.grouped_reduce\u001b[39m\u001b[34m(self, func)\u001b[39m\n\u001b[32m    365\u001b[39m \u001b[38;5;28;01mdef\u001b[39;00m\u001b[38;5;250m \u001b[39m\u001b[34mgrouped_reduce\u001b[39m(\u001b[38;5;28mself\u001b[39m, func):\n\u001b[32m    366\u001b[39m     arr = \u001b[38;5;28mself\u001b[39m.array\n\u001b[32m--> \u001b[39m\u001b[32m367\u001b[39m     res = \u001b[43mfunc\u001b[49m\u001b[43m(\u001b[49m\u001b[43marr\u001b[49m\u001b[43m)\u001b[49m\n\u001b[32m    368\u001b[39m     index = default_index(\u001b[38;5;28mlen\u001b[39m(res))\n\u001b[32m    370\u001b[39m     mgr = \u001b[38;5;28mtype\u001b[39m(\u001b[38;5;28mself\u001b[39m).from_array(res, index)\n",
      "\u001b[36mFile \u001b[39m\u001b[32m~/.local/lib/python3.12/site-packages/pandas/core/groupby/groupby.py:1995\u001b[39m, in \u001b[36mGroupBy._cython_agg_general.<locals>.array_func\u001b[39m\u001b[34m(values)\u001b[39m\n\u001b[32m   1992\u001b[39m     \u001b[38;5;28;01mreturn\u001b[39;00m result\n\u001b[32m   1994\u001b[39m \u001b[38;5;28;01massert\u001b[39;00m alt \u001b[38;5;129;01mis\u001b[39;00m \u001b[38;5;129;01mnot\u001b[39;00m \u001b[38;5;28;01mNone\u001b[39;00m\n\u001b[32m-> \u001b[39m\u001b[32m1995\u001b[39m result = \u001b[38;5;28;43mself\u001b[39;49m\u001b[43m.\u001b[49m\u001b[43m_agg_py_fallback\u001b[49m\u001b[43m(\u001b[49m\u001b[43mhow\u001b[49m\u001b[43m,\u001b[49m\u001b[43m \u001b[49m\u001b[43mvalues\u001b[49m\u001b[43m,\u001b[49m\u001b[43m \u001b[49m\u001b[43mndim\u001b[49m\u001b[43m=\u001b[49m\u001b[43mdata\u001b[49m\u001b[43m.\u001b[49m\u001b[43mndim\u001b[49m\u001b[43m,\u001b[49m\u001b[43m \u001b[49m\u001b[43malt\u001b[49m\u001b[43m=\u001b[49m\u001b[43malt\u001b[49m\u001b[43m)\u001b[49m\n\u001b[32m   1996\u001b[39m \u001b[38;5;28;01mreturn\u001b[39;00m result\n",
      "\u001b[36mFile \u001b[39m\u001b[32m~/.local/lib/python3.12/site-packages/pandas/core/groupby/groupby.py:1946\u001b[39m, in \u001b[36mGroupBy._agg_py_fallback\u001b[39m\u001b[34m(self, how, values, ndim, alt)\u001b[39m\n\u001b[32m   1944\u001b[39m     msg = \u001b[33mf\u001b[39m\u001b[33m\"\u001b[39m\u001b[33magg function failed [how->\u001b[39m\u001b[38;5;132;01m{\u001b[39;00mhow\u001b[38;5;132;01m}\u001b[39;00m\u001b[33m,dtype->\u001b[39m\u001b[38;5;132;01m{\u001b[39;00mser.dtype\u001b[38;5;132;01m}\u001b[39;00m\u001b[33m]\u001b[39m\u001b[33m\"\u001b[39m\n\u001b[32m   1945\u001b[39m     \u001b[38;5;66;03m# preserve the kind of exception that raised\u001b[39;00m\n\u001b[32m-> \u001b[39m\u001b[32m1946\u001b[39m     \u001b[38;5;28;01mraise\u001b[39;00m \u001b[38;5;28mtype\u001b[39m(err)(msg) \u001b[38;5;28;01mfrom\u001b[39;00m\u001b[38;5;250m \u001b[39m\u001b[34;01merr\u001b[39;00m\n\u001b[32m   1948\u001b[39m \u001b[38;5;28;01mif\u001b[39;00m ser.dtype == \u001b[38;5;28mobject\u001b[39m:\n\u001b[32m   1949\u001b[39m     res_values = res_values.astype(\u001b[38;5;28mobject\u001b[39m, copy=\u001b[38;5;28;01mFalse\u001b[39;00m)\n",
      "\u001b[31mTypeError\u001b[39m: agg function failed [how->mean,dtype->object]"
     ]
    }
   ],
   "source": [
    "# Merge large cap info into original merged dataset\n",
    "merged_large = pd.merge(merged, large_cap, on=['permno', 'month'], how='inner')\n",
    "\n",
    "# Assign quantiles for AM signal\n",
    "merged_large['quantile'] = merged_large.groupby('month')['AM'].transform(\n",
    "    lambda x: pd.qcut(x, 5, labels=False, duplicates='drop') + 1\n",
    ")\n",
    "\n",
    "# Calculate average returns per quantile\n",
    "avg_returns_large = merged_large.groupby('quantile')['ret'].mean().reset_index()"
   ]
  },
  {
   "cell_type": "markdown",
   "id": "bbffb514",
   "metadata": {},
   "source": [
    "### AOP Signal Performance\n",
    "\n",
    "This chart shows the average return for each AOP signal rank group. The pattern is inconsistent, and there is no clear relationship between rank and return."
   ]
  },
  {
   "cell_type": "code",
   "execution_count": null,
   "id": "4a0d595e",
   "metadata": {},
   "outputs": [],
   "source": [
    "aop_return_by_quantile.plot(kind='bar', color='lightgreen', edgecolor='black')\n",
    "plt.title('Average Return by AOP Signal Rank (Quintiles)')\n",
    "plt.xlabel('AOP Signal Quantile')\n",
    "plt.ylabel('Average Return')\n",
    "plt.xticks(rotation=0)\n",
    "plt.grid(axis='y', linestyle='--', alpha=0.7)\n",
    "plt.tight_layout()\n",
    "plt.show()"
   ]
  },
  {
   "cell_type": "markdown",
   "id": "bae108e9",
   "metadata": {},
   "source": [
    "### AnalystRevision Signal Performance\n",
    "\n",
    "This chart shows the average return for each AnalystRevision rank group. Interestingly, the highest-ranked group performed the worst, suggesting this signal did not work well in 2008.\n"
   ]
  },
  {
   "cell_type": "code",
   "execution_count": null,
   "id": "c7788153",
   "metadata": {},
   "outputs": [],
   "source": [
    "rev_return_by_quantile.plot(kind='bar', color='salmon', edgecolor='black')\n",
    "plt.title('Average Return by AnalystRevision Signal Rank (Quintiles)')\n",
    "plt.xlabel('AnalystRevision Signal Quantile')\n",
    "plt.ylabel('Average Return')\n",
    "plt.xticks(rotation=0)\n",
    "plt.grid(axis='y', linestyle='--', alpha=0.7)\n",
    "plt.tight_layout()\n",
    "plt.show()"
   ]
  },
  {
   "cell_type": "code",
   "execution_count": null,
   "id": "32aead1b",
   "metadata": {},
   "outputs": [],
   "source": []
  }
 ],
 "metadata": {
  "kernelspec": {
   "display_name": "Python 3",
   "language": "python",
   "name": "python3"
  },
  "language_info": {
   "codemirror_mode": {
    "name": "ipython",
    "version": 3
   },
   "file_extension": ".py",
   "mimetype": "text/x-python",
   "name": "python",
   "nbconvert_exporter": "python",
   "pygments_lexer": "ipython3",
   "version": "3.12.1"
  }
 },
 "nbformat": 4,
 "nbformat_minor": 5
}

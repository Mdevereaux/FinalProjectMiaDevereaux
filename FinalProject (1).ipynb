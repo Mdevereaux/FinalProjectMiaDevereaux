{
 "cells": [
  {
   "cell_type": "markdown",
   "id": "2d886762",
   "metadata": {},
   "source": [
    "# Ranking Stocks with Signals in 2008\n",
    "\n",
    "## Project Goal\n",
    "\n",
    "The goal of this project was to see if stock signals could help pick better-performing stocks during a hard year like 2008.\n",
    "\n",
    "I tested three signals from the Open Asset Pricing dataset:\n",
    "- **AM** (Asset Growth Minus Accruals): Measures how fast a company’s assets are growing. Lower growth is usually better.\n",
    "- **AOP** (Accruals Over Price): Looks at how much of a company’s earnings come from non-cash items. Lower values are often better.\n",
    "- **AnalystRevision**: Based on changes in analysts' forecasts.\n",
    "\n",
    "\n",
    "## Data Used\n",
    "\n",
    "- **signal2008_sample.csv** – monthly signal values for a sample of stocks in 2008  \n",
    "- **crsp_2008_2023_rets.csv** – monthly stock returns from 2008–2023  \n",
    "I combined both datasets using stock ID and month to compare signal scores to real returns.\n",
    "\n",
    "## What I Did\n",
    "\n",
    "1. Used 2008 signal data to rank stocks each month  \n",
    "2. Merged in return data  \n",
    "3. Split stocks into 5 groups based on their signal score  \n",
    "4. Compared average returns across those groups  \n",
    "5. Made bar charts to show the results  \n",
    "\n",
    "## What I Found\n",
    "\n",
    "- **AM** signal was the most helpful — higher-ranked stocks lost less in 2008  \n",
    "- **AOP** didn’t show a clear pattern  \n",
    "- **AnalystRevision** actually did worse — top-ranked stocks had the worst returns  \n",
    "\n",
    "This shows that some signals can work, but others might not hold up in rough markets like 2008.\n",
    "\n",
    "## Conclusion\n",
    "\n",
    "This project shows how you can use data to test stock-picking strategies. It also shows why it’s important to check signals in different types of markets before using them for real investing.\n"
   ]
  },
  {
   "cell_type": "code",
   "execution_count": 54,
   "id": "026d2873",
   "metadata": {},
   "outputs": [],
   "source": [
    "# Set up \n",
    "import pandas as pd \n",
    "import numpy as np \n",
    "import matplotlib.pyplot as plt\n",
    "import urllib.request"
   ]
  },
  {
   "cell_type": "markdown",
   "id": "fc4c5fef",
   "metadata": {},
   "source": [
    "## Step 1: Load and Preview 2008 Signal Sample Data\n",
    "\n",
    "In this step, I load the `signal2008_sample.csv` file to preview the structure of the dataset and inspect what signals are available. This helps me choose which ones I want to analyze in more detail.\n",
    "\n",
    "I used a small sample file first because it’s faster and easier to test with."
   ]
  },
  {
   "cell_type": "code",
   "execution_count": 30,
   "id": "eae725b8",
   "metadata": {},
   "outputs": [
    {
     "data": {
      "text/html": [
       "<div>\n",
       "<style scoped>\n",
       "    .dataframe tbody tr th:only-of-type {\n",
       "        vertical-align: middle;\n",
       "    }\n",
       "\n",
       "    .dataframe tbody tr th {\n",
       "        vertical-align: top;\n",
       "    }\n",
       "\n",
       "    .dataframe thead th {\n",
       "        text-align: right;\n",
       "    }\n",
       "</style>\n",
       "<table border=\"1\" class=\"dataframe\">\n",
       "  <thead>\n",
       "    <tr style=\"text-align: right;\">\n",
       "      <th></th>\n",
       "      <th>permno</th>\n",
       "      <th>yyyymm</th>\n",
       "      <th>AM</th>\n",
       "      <th>AOP</th>\n",
       "      <th>Accruals</th>\n",
       "      <th>AccrualsBM</th>\n",
       "      <th>Activism1</th>\n",
       "      <th>Activism2</th>\n",
       "      <th>AgeIPO</th>\n",
       "      <th>AnalystRevision</th>\n",
       "      <th>...</th>\n",
       "      <th>realestate</th>\n",
       "      <th>retConglomerate</th>\n",
       "      <th>roaq</th>\n",
       "      <th>sfe</th>\n",
       "      <th>skew1</th>\n",
       "      <th>std_turn</th>\n",
       "      <th>tang</th>\n",
       "      <th>zerotrade</th>\n",
       "      <th>zerotradeAlt12</th>\n",
       "      <th>date</th>\n",
       "    </tr>\n",
       "  </thead>\n",
       "  <tbody>\n",
       "    <tr>\n",
       "      <th>0</th>\n",
       "      <td>10032</td>\n",
       "      <td>200801</td>\n",
       "      <td>0.763326</td>\n",
       "      <td>0.52434</td>\n",
       "      <td>-0.014848</td>\n",
       "      <td>NaN</td>\n",
       "      <td>NaN</td>\n",
       "      <td>NaN</td>\n",
       "      <td>NaN</td>\n",
       "      <td>0.994737</td>\n",
       "      <td>...</td>\n",
       "      <td>NaN</td>\n",
       "      <td>NaN</td>\n",
       "      <td>0.029746</td>\n",
       "      <td>NaN</td>\n",
       "      <td>-0.056691</td>\n",
       "      <td>NaN</td>\n",
       "      <td>0.785901</td>\n",
       "      <td>8.105539e-09</td>\n",
       "      <td>7.338935e-09</td>\n",
       "      <td>2008-01-31</td>\n",
       "    </tr>\n",
       "    <tr>\n",
       "      <th>1</th>\n",
       "      <td>10032</td>\n",
       "      <td>200802</td>\n",
       "      <td>0.695966</td>\n",
       "      <td>0.52434</td>\n",
       "      <td>-0.014848</td>\n",
       "      <td>NaN</td>\n",
       "      <td>NaN</td>\n",
       "      <td>NaN</td>\n",
       "      <td>NaN</td>\n",
       "      <td>0.994709</td>\n",
       "      <td>...</td>\n",
       "      <td>NaN</td>\n",
       "      <td>NaN</td>\n",
       "      <td>0.029746</td>\n",
       "      <td>NaN</td>\n",
       "      <td>-0.048161</td>\n",
       "      <td>NaN</td>\n",
       "      <td>0.785901</td>\n",
       "      <td>8.819205e-09</td>\n",
       "      <td>7.487527e-09</td>\n",
       "      <td>2008-02-29</td>\n",
       "    </tr>\n",
       "    <tr>\n",
       "      <th>2</th>\n",
       "      <td>10032</td>\n",
       "      <td>200803</td>\n",
       "      <td>0.748897</td>\n",
       "      <td>0.52434</td>\n",
       "      <td>-0.032580</td>\n",
       "      <td>NaN</td>\n",
       "      <td>NaN</td>\n",
       "      <td>NaN</td>\n",
       "      <td>NaN</td>\n",
       "      <td>1.021277</td>\n",
       "      <td>...</td>\n",
       "      <td>NaN</td>\n",
       "      <td>NaN</td>\n",
       "      <td>0.029770</td>\n",
       "      <td>NaN</td>\n",
       "      <td>-0.058780</td>\n",
       "      <td>NaN</td>\n",
       "      <td>0.774756</td>\n",
       "      <td>8.235955e-09</td>\n",
       "      <td>7.822338e-09</td>\n",
       "      <td>2008-03-31</td>\n",
       "    </tr>\n",
       "    <tr>\n",
       "      <th>3</th>\n",
       "      <td>10032</td>\n",
       "      <td>200804</td>\n",
       "      <td>0.872003</td>\n",
       "      <td>0.52434</td>\n",
       "      <td>-0.032580</td>\n",
       "      <td>NaN</td>\n",
       "      <td>NaN</td>\n",
       "      <td>NaN</td>\n",
       "      <td>NaN</td>\n",
       "      <td>1.000000</td>\n",
       "      <td>...</td>\n",
       "      <td>NaN</td>\n",
       "      <td>NaN</td>\n",
       "      <td>0.029770</td>\n",
       "      <td>NaN</td>\n",
       "      <td>-0.037279</td>\n",
       "      <td>NaN</td>\n",
       "      <td>0.774756</td>\n",
       "      <td>7.870446e-09</td>\n",
       "      <td>8.027040e-09</td>\n",
       "      <td>2008-04-30</td>\n",
       "    </tr>\n",
       "    <tr>\n",
       "      <th>4</th>\n",
       "      <td>10032</td>\n",
       "      <td>200805</td>\n",
       "      <td>0.765690</td>\n",
       "      <td>0.52434</td>\n",
       "      <td>-0.032580</td>\n",
       "      <td>NaN</td>\n",
       "      <td>NaN</td>\n",
       "      <td>NaN</td>\n",
       "      <td>NaN</td>\n",
       "      <td>0.973958</td>\n",
       "      <td>...</td>\n",
       "      <td>NaN</td>\n",
       "      <td>NaN</td>\n",
       "      <td>0.029770</td>\n",
       "      <td>NaN</td>\n",
       "      <td>NaN</td>\n",
       "      <td>NaN</td>\n",
       "      <td>0.774756</td>\n",
       "      <td>8.003802e-09</td>\n",
       "      <td>7.926766e-09</td>\n",
       "      <td>2008-05-31</td>\n",
       "    </tr>\n",
       "  </tbody>\n",
       "</table>\n",
       "<p>5 rows × 170 columns</p>\n",
       "</div>"
      ],
      "text/plain": [
       "   permno  yyyymm        AM      AOP  Accruals  AccrualsBM  Activism1  \\\n",
       "0   10032  200801  0.763326  0.52434 -0.014848         NaN        NaN   \n",
       "1   10032  200802  0.695966  0.52434 -0.014848         NaN        NaN   \n",
       "2   10032  200803  0.748897  0.52434 -0.032580         NaN        NaN   \n",
       "3   10032  200804  0.872003  0.52434 -0.032580         NaN        NaN   \n",
       "4   10032  200805  0.765690  0.52434 -0.032580         NaN        NaN   \n",
       "\n",
       "   Activism2  AgeIPO  AnalystRevision  ...  realestate  retConglomerate  \\\n",
       "0        NaN     NaN         0.994737  ...         NaN              NaN   \n",
       "1        NaN     NaN         0.994709  ...         NaN              NaN   \n",
       "2        NaN     NaN         1.021277  ...         NaN              NaN   \n",
       "3        NaN     NaN         1.000000  ...         NaN              NaN   \n",
       "4        NaN     NaN         0.973958  ...         NaN              NaN   \n",
       "\n",
       "       roaq  sfe     skew1  std_turn      tang     zerotrade  zerotradeAlt12  \\\n",
       "0  0.029746  NaN -0.056691       NaN  0.785901  8.105539e-09    7.338935e-09   \n",
       "1  0.029746  NaN -0.048161       NaN  0.785901  8.819205e-09    7.487527e-09   \n",
       "2  0.029770  NaN -0.058780       NaN  0.774756  8.235955e-09    7.822338e-09   \n",
       "3  0.029770  NaN -0.037279       NaN  0.774756  7.870446e-09    8.027040e-09   \n",
       "4  0.029770  NaN       NaN       NaN  0.774756  8.003802e-09    7.926766e-09   \n",
       "\n",
       "         date  \n",
       "0  2008-01-31  \n",
       "1  2008-02-29  \n",
       "2  2008-03-31  \n",
       "3  2008-04-30  \n",
       "4  2008-05-31  \n",
       "\n",
       "[5 rows x 170 columns]"
      ]
     },
     "execution_count": 30,
     "metadata": {},
     "output_type": "execute_result"
    }
   ],
   "source": [
    "url = 'https://raw.githubusercontent.com/aaiken1/fin-data-analysis-python/main/data/signal2008_sample.csv'\n",
    "\n",
    "df_2008 = pd.read_csv(url)\n",
    "df_2008.head()"
   ]
  },
  {
   "cell_type": "markdown",
   "id": "14578351",
   "metadata": {},
   "source": [
    "## Step 2: Pick Clean Signals and Rank Stocks\n",
    " In this step, I will rank stocks by each signal within each month to prepare for analyzing their return performance."
   ]
  },
  {
   "cell_type": "code",
   "execution_count": 31,
   "id": "15c5b90b",
   "metadata": {},
   "outputs": [
    {
     "data": {
      "text/html": [
       "<div>\n",
       "<style scoped>\n",
       "    .dataframe tbody tr th:only-of-type {\n",
       "        vertical-align: middle;\n",
       "    }\n",
       "\n",
       "    .dataframe tbody tr th {\n",
       "        vertical-align: top;\n",
       "    }\n",
       "\n",
       "    .dataframe thead th {\n",
       "        text-align: right;\n",
       "    }\n",
       "</style>\n",
       "<table border=\"1\" class=\"dataframe\">\n",
       "  <thead>\n",
       "    <tr style=\"text-align: right;\">\n",
       "      <th></th>\n",
       "      <th>permno</th>\n",
       "      <th>yyyymm</th>\n",
       "      <th>AM</th>\n",
       "      <th>AOP</th>\n",
       "      <th>AnalystRevision</th>\n",
       "      <th>AM_rank</th>\n",
       "      <th>AOP_rank</th>\n",
       "      <th>AnalystRevision_rank</th>\n",
       "    </tr>\n",
       "  </thead>\n",
       "  <tbody>\n",
       "    <tr>\n",
       "      <th>0</th>\n",
       "      <td>10032</td>\n",
       "      <td>200801</td>\n",
       "      <td>0.763326</td>\n",
       "      <td>0.52434</td>\n",
       "      <td>0.994737</td>\n",
       "      <td>40.0</td>\n",
       "      <td>1.0</td>\n",
       "      <td>44.0</td>\n",
       "    </tr>\n",
       "    <tr>\n",
       "      <th>1</th>\n",
       "      <td>10032</td>\n",
       "      <td>200802</td>\n",
       "      <td>0.695966</td>\n",
       "      <td>0.52434</td>\n",
       "      <td>0.994709</td>\n",
       "      <td>42.0</td>\n",
       "      <td>1.0</td>\n",
       "      <td>40.0</td>\n",
       "    </tr>\n",
       "    <tr>\n",
       "      <th>2</th>\n",
       "      <td>10032</td>\n",
       "      <td>200803</td>\n",
       "      <td>0.748897</td>\n",
       "      <td>0.52434</td>\n",
       "      <td>1.021277</td>\n",
       "      <td>38.0</td>\n",
       "      <td>1.0</td>\n",
       "      <td>16.0</td>\n",
       "    </tr>\n",
       "    <tr>\n",
       "      <th>3</th>\n",
       "      <td>10032</td>\n",
       "      <td>200804</td>\n",
       "      <td>0.872003</td>\n",
       "      <td>0.52434</td>\n",
       "      <td>1.000000</td>\n",
       "      <td>37.0</td>\n",
       "      <td>1.0</td>\n",
       "      <td>10.0</td>\n",
       "    </tr>\n",
       "    <tr>\n",
       "      <th>4</th>\n",
       "      <td>10032</td>\n",
       "      <td>200805</td>\n",
       "      <td>0.765690</td>\n",
       "      <td>0.52434</td>\n",
       "      <td>0.973958</td>\n",
       "      <td>39.0</td>\n",
       "      <td>1.0</td>\n",
       "      <td>35.0</td>\n",
       "    </tr>\n",
       "  </tbody>\n",
       "</table>\n",
       "</div>"
      ],
      "text/plain": [
       "   permno  yyyymm        AM      AOP  AnalystRevision  AM_rank  AOP_rank  \\\n",
       "0   10032  200801  0.763326  0.52434         0.994737     40.0       1.0   \n",
       "1   10032  200802  0.695966  0.52434         0.994709     42.0       1.0   \n",
       "2   10032  200803  0.748897  0.52434         1.021277     38.0       1.0   \n",
       "3   10032  200804  0.872003  0.52434         1.000000     37.0       1.0   \n",
       "4   10032  200805  0.765690  0.52434         0.973958     39.0       1.0   \n",
       "\n",
       "   AnalystRevision_rank  \n",
       "0                  44.0  \n",
       "1                  40.0  \n",
       "2                  16.0  \n",
       "3                  10.0  \n",
       "4                  35.0  "
      ]
     },
     "execution_count": 31,
     "metadata": {},
     "output_type": "execute_result"
    }
   ],
   "source": [
    "df_ranked = df_2008.copy()\n",
    "\n",
    "# List of signals to rank\n",
    "signals_to_rank = ['AM', 'AOP', 'AnalystRevision']\n",
    "\n",
    "# Rank each stock by signal within each month (higher = better rank)\n",
    "for signal in signals_to_rank:\n",
    "    df_ranked[f'{signal}_rank'] = df_ranked.groupby('yyyymm')[signal].rank(method='first', ascending=False)\n",
    "\n",
    "df_ranked[['permno', 'yyyymm'] + signals_to_rank + [f'{s}_rank' for s in signals_to_rank]].head()"
   ]
  },
  {
   "cell_type": "markdown",
   "id": "dc01eaca",
   "metadata": {},
   "source": [
    "## Step 3: Rank Stocks Within Each Month by Signal\n",
    "\n",
    "I ranked stocks by each selected signal within each month using groupby and rank. \n",
    "This will allow me to later compare the performance of top-ranked vs. bottom-ranked stocks."
   ]
  },
  {
   "cell_type": "markdown",
   "id": "7977d3c2",
   "metadata": {},
   "source": [
    "## Step 4: Bringing in Return Data to Test Signal Effectiveness\n",
    "\n",
    "Now that I’ve ranked stocks by their signal values each month, I will evaluate whether these signals could potentially help a portfolio manager make better investment decisions.\n",
    "I will:\n",
    "- Import monthly stock return data from 2008–2023 (crsp_2008_2023_rets.csv)\n",
    "- Merge this data with my ranked signal dataset using permno and yyyymm\n",
    "- Analyze how stocks ranked highly on each signal performed in the following month\n",
    "\n",
    "This step will help determine whether these signals have any predictive power for returns, which is a key question in my analysis"
   ]
  },
  {
   "cell_type": "code",
   "execution_count": 32,
   "id": "7dfd0764",
   "metadata": {},
   "outputs": [
    {
     "data": {
      "text/html": [
       "<div>\n",
       "<style scoped>\n",
       "    .dataframe tbody tr th:only-of-type {\n",
       "        vertical-align: middle;\n",
       "    }\n",
       "\n",
       "    .dataframe tbody tr th {\n",
       "        vertical-align: top;\n",
       "    }\n",
       "\n",
       "    .dataframe thead th {\n",
       "        text-align: right;\n",
       "    }\n",
       "</style>\n",
       "<table border=\"1\" class=\"dataframe\">\n",
       "  <thead>\n",
       "    <tr style=\"text-align: right;\">\n",
       "      <th></th>\n",
       "      <th>PERMNO</th>\n",
       "      <th>date</th>\n",
       "      <th>TICKER</th>\n",
       "      <th>RET</th>\n",
       "    </tr>\n",
       "  </thead>\n",
       "  <tbody>\n",
       "    <tr>\n",
       "      <th>0</th>\n",
       "      <td>10001</td>\n",
       "      <td>2008-01-31</td>\n",
       "      <td>EWST</td>\n",
       "      <td>-0.006082</td>\n",
       "    </tr>\n",
       "    <tr>\n",
       "      <th>1</th>\n",
       "      <td>10001</td>\n",
       "      <td>2008-02-29</td>\n",
       "      <td>EWST</td>\n",
       "      <td>0.021704</td>\n",
       "    </tr>\n",
       "    <tr>\n",
       "      <th>2</th>\n",
       "      <td>10001</td>\n",
       "      <td>2008-03-31</td>\n",
       "      <td>EWST</td>\n",
       "      <td>-0.052516</td>\n",
       "    </tr>\n",
       "    <tr>\n",
       "      <th>3</th>\n",
       "      <td>10001</td>\n",
       "      <td>2008-04-30</td>\n",
       "      <td>EWST</td>\n",
       "      <td>-0.036698</td>\n",
       "    </tr>\n",
       "    <tr>\n",
       "      <th>4</th>\n",
       "      <td>10001</td>\n",
       "      <td>2008-05-30</td>\n",
       "      <td>EWST</td>\n",
       "      <td>0.271628</td>\n",
       "    </tr>\n",
       "  </tbody>\n",
       "</table>\n",
       "</div>"
      ],
      "text/plain": [
       "   PERMNO        date TICKER        RET\n",
       "0   10001  2008-01-31   EWST  -0.006082\n",
       "1   10001  2008-02-29   EWST   0.021704\n",
       "2   10001  2008-03-31   EWST  -0.052516\n",
       "3   10001  2008-04-30   EWST  -0.036698\n",
       "4   10001  2008-05-30   EWST   0.271628"
      ]
     },
     "execution_count": 32,
     "metadata": {},
     "output_type": "execute_result"
    }
   ],
   "source": [
    "rets_url = 'https://raw.githubusercontent.com/aaiken1/fin-data-analysis-python/refs/heads/main/data/crsp_2008_2023_ret.csv'\n",
    "df_rets = pd.read_csv(rets_url)\n",
    "\n",
    "df_rets.head()"
   ]
  },
  {
   "cell_type": "markdown",
   "id": "0e87353b",
   "metadata": {},
   "source": [
    "## Step 5: Merge Ranked Signals with Return Data\n",
    "\n",
    "In this step, I merge my ranked signal data with actual stock return data using `permno` and date. This allows me to test whether the stocks that ranked highly on a given signal actually went on to perform better (or worse) in that month.\n",
    "\n",
    "To do this, I need to:\n",
    "- Convert the `yyyymm` column from the signals data into a proper date format\n",
    "- Merge it with the CRSP return data using `permno` and `date"
   ]
  },
  {
   "cell_type": "code",
   "execution_count": 33,
   "id": "942b81b7",
   "metadata": {},
   "outputs": [
    {
     "data": {
      "text/html": [
       "<div>\n",
       "<style scoped>\n",
       "    .dataframe tbody tr th:only-of-type {\n",
       "        vertical-align: middle;\n",
       "    }\n",
       "\n",
       "    .dataframe tbody tr th {\n",
       "        vertical-align: top;\n",
       "    }\n",
       "\n",
       "    .dataframe thead th {\n",
       "        text-align: right;\n",
       "    }\n",
       "</style>\n",
       "<table border=\"1\" class=\"dataframe\">\n",
       "  <thead>\n",
       "    <tr style=\"text-align: right;\">\n",
       "      <th></th>\n",
       "      <th>permno</th>\n",
       "      <th>date</th>\n",
       "      <th>RET</th>\n",
       "      <th>AM_rank</th>\n",
       "      <th>AOP_rank</th>\n",
       "      <th>AnalystRevision_rank</th>\n",
       "    </tr>\n",
       "  </thead>\n",
       "  <tbody>\n",
       "    <tr>\n",
       "      <th>0</th>\n",
       "      <td>10032</td>\n",
       "      <td>2008-01-31</td>\n",
       "      <td>-0.139756</td>\n",
       "      <td>40.0</td>\n",
       "      <td>1.0</td>\n",
       "      <td>44.0</td>\n",
       "    </tr>\n",
       "    <tr>\n",
       "      <th>1</th>\n",
       "      <td>10032</td>\n",
       "      <td>2008-02-29</td>\n",
       "      <td>0.096503</td>\n",
       "      <td>42.0</td>\n",
       "      <td>1.0</td>\n",
       "      <td>40.0</td>\n",
       "    </tr>\n",
       "    <tr>\n",
       "      <th>2</th>\n",
       "      <td>10032</td>\n",
       "      <td>2008-03-31</td>\n",
       "      <td>0.132418</td>\n",
       "      <td>38.0</td>\n",
       "      <td>1.0</td>\n",
       "      <td>16.0</td>\n",
       "    </tr>\n",
       "    <tr>\n",
       "      <th>3</th>\n",
       "      <td>10032</td>\n",
       "      <td>2008-04-30</td>\n",
       "      <td>-0.141176</td>\n",
       "      <td>37.0</td>\n",
       "      <td>1.0</td>\n",
       "      <td>10.0</td>\n",
       "    </tr>\n",
       "    <tr>\n",
       "      <th>4</th>\n",
       "      <td>10032</td>\n",
       "      <td>2008-06-30</td>\n",
       "      <td>-0.019483</td>\n",
       "      <td>42.0</td>\n",
       "      <td>16.0</td>\n",
       "      <td>12.0</td>\n",
       "    </tr>\n",
       "  </tbody>\n",
       "</table>\n",
       "</div>"
      ],
      "text/plain": [
       "   permno       date        RET  AM_rank  AOP_rank  AnalystRevision_rank\n",
       "0   10032 2008-01-31  -0.139756     40.0       1.0                  44.0\n",
       "1   10032 2008-02-29   0.096503     42.0       1.0                  40.0\n",
       "2   10032 2008-03-31   0.132418     38.0       1.0                  16.0\n",
       "3   10032 2008-04-30  -0.141176     37.0       1.0                  10.0\n",
       "4   10032 2008-06-30  -0.019483     42.0      16.0                  12.0"
      ]
     },
     "execution_count": 33,
     "metadata": {},
     "output_type": "execute_result"
    }
   ],
   "source": [
    "#Convert yyyymm to proper date format (end of month)\n",
    "df_ranked['date'] = pd.to_datetime(df_ranked['yyyymm'].astype(str), format='%Y%m') + pd.offsets.MonthEnd(0)\n",
    "\n",
    "#  Make sure return data has datetime too\n",
    "df_rets.rename(columns={'PERMNO': 'permno'}, inplace=True)\n",
    "df_rets['date'] = pd.to_datetime(df_rets['date'])  # FIXED LINE HERE ✅\n",
    "\n",
    "df_merged = pd.merge(df_ranked, df_rets, on=['permno', 'date'], how='inner')\n",
    "\n",
    "df_merged[['permno', 'date', 'RET', 'AM_rank', 'AOP_rank', 'AnalystRevision_rank']].head()\n"
   ]
  },
  {
   "cell_type": "markdown",
   "id": "b6789f56",
   "metadata": {},
   "source": [
    "## Step 6: Compare Returns for High vs. Low Ranked Stocks\n",
    "\n",
    "Now that I’ve ranked the stocks, I want to see if the ones with better signal scores actually made more money.\n",
    "\n",
    "To do this, I split the stocks into 5 groups (quintiles) based on their signal rank each month:\n",
    "- Group 5 = top 20% (highest ranked)\n",
    "- Group 1 = bottom 20% (lowest ranked)\n",
    "\n",
    "Then I check the average return for each group. If Group 5 has higher returns than Group 1, it means the signal might be useful.\n"
   ]
  },
  {
   "cell_type": "code",
   "execution_count": 34,
   "id": "7df74e12",
   "metadata": {},
   "outputs": [
    {
     "name": "stdout",
     "output_type": "stream",
     "text": [
      "Average Return by AM Signal Quantile:\n",
      "AM_quantile\n",
      "1   -0.050320\n",
      "2   -0.089315\n",
      "3   -0.041581\n",
      "4   -0.044424\n",
      "5    0.000006\n",
      "Name: RET, dtype: float64\n"
     ]
    },
    {
     "name": "stderr",
     "output_type": "stream",
     "text": [
      "/tmp/ipykernel_2063/2749491508.py:12: FutureWarning: The default of observed=False is deprecated and will be changed to True in a future version of pandas. Pass observed=False to retain current behavior or observed=True to adopt the future default and silence this warning.\n",
      "  am_return_by_quantile = df_merged.groupby('AM_quantile')['RET'].mean()\n"
     ]
    }
   ],
   "source": [
    "# Make sure return column is numeric\n",
    "df_merged['RET'] = pd.to_numeric(df_merged['RET'], errors='coerce')\n",
    "\n",
    "# Define a function to label stocks by signal rank quantile\n",
    "def label_quantiles(x):\n",
    "    return pd.qcut(x, q=5, labels=[1, 2, 3, 4, 5])  # 1 = bottom 20%, 5 = top 20%\n",
    "\n",
    "# Apply to AM rank\n",
    "df_merged['AM_quantile'] = df_merged.groupby('date')['AM_rank'].transform(label_quantiles)\n",
    "\n",
    "# Calculate average return for each quantile\n",
    "am_return_by_quantile = df_merged.groupby('AM_quantile')['RET'].mean()\n",
    "\n",
    "# Display the result\n",
    "print(\"Average Return by AM Signal Quantile:\")\n",
    "print(am_return_by_quantile)"
   ]
  },
  {
   "cell_type": "markdown",
   "id": "7a9daa1b",
   "metadata": {},
   "source": [
    "### What the Results Show (AM Signal)\n",
    "\n",
    "These results show how stocks did based on their AM score. Group 5 had the highest scores, and Group 1 had the lowest.\n",
    "\n",
    "In 2008, the higher-scoring stocks lost less money. This means the AM signal may have helped find stronger stocks during a bad year."
   ]
  },
  {
   "cell_type": "code",
   "execution_count": 35,
   "id": "b5515710",
   "metadata": {},
   "outputs": [
    {
     "name": "stdout",
     "output_type": "stream",
     "text": [
      "Average Return by AOP Signal Quantile:\n",
      "AOP_quantile\n",
      "1   -0.061840\n",
      "2   -0.018705\n",
      "3   -0.043498\n",
      "4   -0.084367\n",
      "5   -0.035663\n",
      "Name: RET, dtype: float64\n"
     ]
    },
    {
     "name": "stderr",
     "output_type": "stream",
     "text": [
      "/tmp/ipykernel_2063/888219367.py:3: FutureWarning: The default of observed=False is deprecated and will be changed to True in a future version of pandas. Pass observed=False to retain current behavior or observed=True to adopt the future default and silence this warning.\n",
      "  aop_return_by_quantile = df_merged.groupby('AOP_quantile')['RET'].mean()\n"
     ]
    }
   ],
   "source": [
    "# For AOP\n",
    "df_merged['AOP_quantile'] = df_merged.groupby('date')['AOP_rank'].transform(label_quantiles)\n",
    "aop_return_by_quantile = df_merged.groupby('AOP_quantile')['RET'].mean()\n",
    "print(\"Average Return by AOP Signal Quantile:\")\n",
    "print(aop_return_by_quantile)"
   ]
  },
  {
   "cell_type": "markdown",
   "id": "6a79ece3",
   "metadata": {},
   "source": [
    "### What the Results Show (AOP Signal)\n",
    "\n",
    "These results show how stocks did based on their AOP score. But unlike the AM signal, there’s no clear pattern.\n",
    "\n",
    "Group 2 actually lost the least, and Group 4 did the worst. So in 2008, the AOP signal didn’t seem very helpful for picking better stocks."
   ]
  },
  {
   "cell_type": "code",
   "execution_count": 36,
   "id": "05aa3329",
   "metadata": {},
   "outputs": [
    {
     "name": "stdout",
     "output_type": "stream",
     "text": [
      "Average Return by AnalystRevision Signal Quantile:\n",
      "AnalystRevision_quantile\n",
      "1   -0.039708\n",
      "2   -0.018766\n",
      "3   -0.053868\n",
      "4   -0.040077\n",
      "5   -0.079250\n",
      "Name: RET, dtype: float64\n"
     ]
    },
    {
     "name": "stderr",
     "output_type": "stream",
     "text": [
      "/tmp/ipykernel_2063/3117742473.py:3: FutureWarning: The default of observed=False is deprecated and will be changed to True in a future version of pandas. Pass observed=False to retain current behavior or observed=True to adopt the future default and silence this warning.\n",
      "  rev_return_by_quantile = df_merged.groupby('AnalystRevision_quantile')['RET'].mean()\n"
     ]
    }
   ],
   "source": [
    "# For AnalystRevision\n",
    "df_merged['AnalystRevision_quantile'] = df_merged.groupby('date')['AnalystRevision_rank'].transform(label_quantiles)\n",
    "rev_return_by_quantile = df_merged.groupby('AnalystRevision_quantile')['RET'].mean()\n",
    "print(\"Average Return by AnalystRevision Signal Quantile:\")\n",
    "print(rev_return_by_quantile)"
   ]
  },
  {
   "cell_type": "markdown",
   "id": "00bf6813",
   "metadata": {},
   "source": [
    "### What the Results Show (AnalystRevision Signal)\n",
    "\n",
    "These results are based on the AnalystRevision signal. The pattern isn’t clear here either.\n",
    "\n",
    "The highest-ranked stocks did the worst, and Group 2 did the best. So this signal didn’t work well in 2008 and may have pointed in the wrong direction.\n"
   ]
  },
  {
   "cell_type": "markdown",
   "id": "385f1f00",
   "metadata": {},
   "source": [
    "## Step 7: Visualize the Results\n",
    "\n",
    "To make my analysis easier to understand, I created bar charts showing the average return for each group (quantile) based on signal rank.\n",
    "\n",
    "If the signal is useful, we would expect higher-ranked groups (especially Quantile 5) to show better performance.\n"
   ]
  },
  {
   "cell_type": "code",
   "execution_count": null,
   "id": "2675fbd4",
   "metadata": {},
   "outputs": [
    {
     "data": {
      "image/png": "[encoded data removed]",
      "text/plain": [
       "<Figure size 640x480 with 1 Axes>"
      ]
     },
     "metadata": {},
     "output_type": "display_data"
    }
   ],
   "source": [
    "# Plot for AM Signal\n",
    "am_return_by_quantile.plot(kind='bar', color='skyblue', edgecolor='black')\n",
    "plt.title('Average Return by AM Signal Rank (Quintiles)')\n",
    "plt.xlabel('AM Signal Quantile')\n",
    "plt.ylabel('Average Return')\n",
    "plt.xticks(rotation=0)\n",
    "plt.grid(axis='y', linestyle='--', alpha=0.7)\n",
    "plt.tight_layout()\n",
    "plt.show()"
   ]
  },
  {
   "cell_type": "markdown",
   "id": "3a2ec697",
   "metadata": {},
   "source": [
    "### AOP Signal Performance\n",
    "\n",
    "This chart shows the average return for each AOP signal rank group. The pattern is inconsistent, and there is no clear relationship between rank and return."
   ]
  },
  {
   "cell_type": "code",
   "execution_count": 38,
   "id": "7b603145",
   "metadata": {},
   "outputs": [
    {
     "data": {
      "image/png": "[encoded data removed]",
      "text/plain": [
       "<Figure size 640x480 with 1 Axes>"
      ]
     },
     "metadata": {},
     "output_type": "display_data"
    }
   ],
   "source": [
    "aop_return_by_quantile.plot(kind='bar', color='lightgreen', edgecolor='black')\n",
    "plt.title('Average Return by AOP Signal Rank (Quintiles)')\n",
    "plt.xlabel('AOP Signal Quantile')\n",
    "plt.ylabel('Average Return')\n",
    "plt.xticks(rotation=0)\n",
    "plt.grid(axis='y', linestyle='--', alpha=0.7)\n",
    "plt.tight_layout()\n",
    "plt.show()"
   ]
  },
  {
   "cell_type": "markdown",
   "id": "457a9aee",
   "metadata": {},
   "source": [
    "### AnalystRevision Signal Performance\n",
    "\n",
    "This chart shows the average return for each AnalystRevision rank group. Interestingly, the highest-ranked group performed the worst, suggesting this signal did not work well in 2008."
   ]
  },
  {
   "cell_type": "code",
   "execution_count": 39,
   "id": "a5f7b873",
   "metadata": {},
   "outputs": [
    {
     "data": {
      "image/png": "[encoded data removed]",
      "text/plain": [
       "<Figure size 640x480 with 1 Axes>"
      ]
     },
     "metadata": {},
     "output_type": "display_data"
    }
   ],
   "source": [
    "rev_return_by_quantile.plot(kind='bar', color='salmon', edgecolor='black')\n",
    "plt.title('Average Return by AnalystRevision Signal Rank (Quintiles)')\n",
    "plt.xlabel('AnalystRevision Signal Quantile')\n",
    "plt.ylabel('Average Return')\n",
    "plt.xticks(rotation=0)\n",
    "plt.grid(axis='y', linestyle='--', alpha=0.7)\n",
    "plt.tight_layout()\n",
    "plt.show()"
   ]
  },
  {
   "cell_type": "markdown",
   "id": "da65dc51",
   "metadata": {},
   "source": [
    "## Step 8: Filter for Large Cap Stocks (Market Cap ≥ $1B)\n",
    "To make this more realistic, I removed small companies and only looked at large-cap stocks — those worth over $1 billion.\n",
    "\n",
    "This is something real portfolio managers do, since big stocks are easier to trade. I wanted to see if the AM signal still worked on just these larger, more tradable stocks."
   ]
  },
  {
   "cell_type": "code",
   "execution_count": null,
   "id": "ec6ecaac",
   "metadata": {},
   "outputs": [
    {
     "name": "stdout",
     "output_type": "stream",
     "text": [
      "✅ Download complete. File saved as: crsp_2008_2023_prc.csv\n"
     ]
    }
   ],
   "source": [
    "# Define the file URL and the name to save it as\n",
    "url = \"https://raw.githubusercontent.com/aaiken1/fin-data-analysis-python/refs/heads/main/data/crsp_2008_2023_prc.csv\"\n",
    "filename = \"crsp_2008_2023_prc.csv\"\n",
    "\n",
    "# Download the file\n",
    "urllib.request.urlretrieve(url, filename)\n",
    "\n",
    "print(\"✅ Download complete. File saved as:\", filename)"
   ]
  },
  {
   "cell_type": "code",
   "execution_count": 41,
   "id": "0bec3a25",
   "metadata": {},
   "outputs": [
    {
     "data": {
      "text/html": [
       "<div>\n",
       "<style scoped>\n",
       "    .dataframe tbody tr th:only-of-type {\n",
       "        vertical-align: middle;\n",
       "    }\n",
       "\n",
       "    .dataframe tbody tr th {\n",
       "        vertical-align: top;\n",
       "    }\n",
       "\n",
       "    .dataframe thead th {\n",
       "        text-align: right;\n",
       "    }\n",
       "</style>\n",
       "<table border=\"1\" class=\"dataframe\">\n",
       "  <thead>\n",
       "    <tr style=\"text-align: right;\">\n",
       "      <th></th>\n",
       "      <th>PERMNO</th>\n",
       "      <th>date</th>\n",
       "      <th>PRC</th>\n",
       "      <th>SHROUT</th>\n",
       "    </tr>\n",
       "  </thead>\n",
       "  <tbody>\n",
       "    <tr>\n",
       "      <th>0</th>\n",
       "      <td>10001</td>\n",
       "      <td>2008-01-31</td>\n",
       "      <td>14.0000</td>\n",
       "      <td>2875.0</td>\n",
       "    </tr>\n",
       "    <tr>\n",
       "      <th>1</th>\n",
       "      <td>10001</td>\n",
       "      <td>2008-02-29</td>\n",
       "      <td>9.4999</td>\n",
       "      <td>4345.0</td>\n",
       "    </tr>\n",
       "    <tr>\n",
       "      <th>2</th>\n",
       "      <td>10001</td>\n",
       "      <td>2008-03-31</td>\n",
       "      <td>8.9650</td>\n",
       "      <td>4347.0</td>\n",
       "    </tr>\n",
       "    <tr>\n",
       "      <th>3</th>\n",
       "      <td>10001</td>\n",
       "      <td>2008-04-30</td>\n",
       "      <td>8.6000</td>\n",
       "      <td>4347.0</td>\n",
       "    </tr>\n",
       "    <tr>\n",
       "      <th>4</th>\n",
       "      <td>10001</td>\n",
       "      <td>2008-05-30</td>\n",
       "      <td>10.9000</td>\n",
       "      <td>4347.0</td>\n",
       "    </tr>\n",
       "  </tbody>\n",
       "</table>\n",
       "</div>"
      ],
      "text/plain": [
       "   PERMNO        date      PRC  SHROUT\n",
       "0   10001  2008-01-31  14.0000  2875.0\n",
       "1   10001  2008-02-29   9.4999  4345.0\n",
       "2   10001  2008-03-31   8.9650  4347.0\n",
       "3   10001  2008-04-30   8.6000  4347.0\n",
       "4   10001  2008-05-30  10.9000  4347.0"
      ]
     },
     "execution_count": 41,
     "metadata": {},
     "output_type": "execute_result"
    }
   ],
   "source": [
    "prc = pd.read_csv(\"crsp_2008_2023_prc.csv\")\n",
    "prc.head() "
   ]
  },
  {
   "cell_type": "code",
   "execution_count": 55,
   "id": "c2d68186",
   "metadata": {},
   "outputs": [
    {
     "name": "stdout",
     "output_type": "stream",
     "text": [
      "✅ Return data downloaded successfully.\n"
     ]
    }
   ],
   "source": [
    "url_ret = \"https://raw.githubusercontent.com/aaiken1/fin-data-analysis-python/main/data/crsp_2008_2023_ret.csv\"\n",
    "filename_ret = \"crsp_2008_2023_ret.csv\"\n",
    "\n",
    "urllib.request.urlretrieve(url_ret, filename_ret)\n",
    "print(\"✅ Return data downloaded successfully.\")"
   ]
  },
  {
   "cell_type": "code",
   "execution_count": 43,
   "id": "663ba8d0",
   "metadata": {},
   "outputs": [],
   "source": [
    "signals_2008 = pd.read_csv(\"signal2008_sample.csv\")\n",
    "signals_2008.rename(columns={'date': 'month'}, inplace=True)\n",
    "signals_2008['month'] = pd.to_datetime(signals_2008['month'])"
   ]
  },
  {
   "cell_type": "code",
   "execution_count": 44,
   "id": "a05feede",
   "metadata": {},
   "outputs": [],
   "source": [
    "crsp = pd.read_csv(\"crsp_2008_2023_ret.csv\")\n",
    "prc = pd.read_csv(\"crsp_2008_2023_prc.csv\")\n",
    "\n",
    "crsp.rename(columns={'PERMNO': 'permno', 'date': 'month'}, inplace=True)\n",
    "crsp['month'] = pd.to_datetime(crsp['month'])\n",
    "\n",
    "prc.rename(columns={'PERMNO': 'permno', 'date': 'month'}, inplace=True)\n",
    "prc['month'] = pd.to_datetime(prc['month'])"
   ]
  },
  {
   "cell_type": "code",
   "execution_count": 45,
   "id": "376d31be",
   "metadata": {},
   "outputs": [],
   "source": [
    "am_2008 = signals_2008[['permno', 'month', 'AM']]"
   ]
  },
  {
   "cell_type": "code",
   "execution_count": 46,
   "id": "5422ec23",
   "metadata": {},
   "outputs": [],
   "source": [
    "# Merge AM signal with stock return data\n",
    "merged = pd.merge(am_2008, crsp[['permno', 'month', 'RET']], on=['permno', 'month'])\n",
    "merged.rename(columns={'RET': 'ret'}, inplace=True)"
   ]
  },
  {
   "cell_type": "code",
   "execution_count": 47,
   "id": "fda63fda",
   "metadata": {},
   "outputs": [],
   "source": [
    "# Calculate market cap from PRC and SHROUT\n",
    "prc['PRC'] = prc['PRC'].abs()\n",
    "prc['mkt_cap'] = prc['PRC'] * prc['SHROUT'] * 1000\n",
    "\n",
    "# Keep only necessary columns and filter large cap (≥ $1B)\n",
    "prc_clean = prc[['permno', 'month', 'mkt_cap']]\n",
    "large_cap = prc_clean[prc_clean['mkt_cap'] >= 1_000_000_000]"
   ]
  },
  {
   "cell_type": "code",
   "execution_count": 48,
   "id": "f7aa4ade",
   "metadata": {},
   "outputs": [
    {
     "data": {
      "text/html": [
       "<div>\n",
       "<style scoped>\n",
       "    .dataframe tbody tr th:only-of-type {\n",
       "        vertical-align: middle;\n",
       "    }\n",
       "\n",
       "    .dataframe tbody tr th {\n",
       "        vertical-align: top;\n",
       "    }\n",
       "\n",
       "    .dataframe thead th {\n",
       "        text-align: right;\n",
       "    }\n",
       "</style>\n",
       "<table border=\"1\" class=\"dataframe\">\n",
       "  <thead>\n",
       "    <tr style=\"text-align: right;\">\n",
       "      <th></th>\n",
       "      <th>permno</th>\n",
       "      <th>month</th>\n",
       "      <th>AM</th>\n",
       "      <th>ret</th>\n",
       "      <th>mkt_cap</th>\n",
       "      <th>quantile</th>\n",
       "    </tr>\n",
       "  </thead>\n",
       "  <tbody>\n",
       "    <tr>\n",
       "      <th>0</th>\n",
       "      <td>10032</td>\n",
       "      <td>2008-01-31</td>\n",
       "      <td>0.763326</td>\n",
       "      <td>-0.139756</td>\n",
       "      <td>1.049961e+09</td>\n",
       "      <td>2.0</td>\n",
       "    </tr>\n",
       "    <tr>\n",
       "      <th>1</th>\n",
       "      <td>10032</td>\n",
       "      <td>2008-02-29</td>\n",
       "      <td>0.695966</td>\n",
       "      <td>0.096503</td>\n",
       "      <td>1.151582e+09</td>\n",
       "      <td>2.0</td>\n",
       "    </tr>\n",
       "    <tr>\n",
       "      <th>2</th>\n",
       "      <td>10032</td>\n",
       "      <td>2008-03-31</td>\n",
       "      <td>0.748897</td>\n",
       "      <td>0.132418</td>\n",
       "      <td>1.223822e+09</td>\n",
       "      <td>2.0</td>\n",
       "    </tr>\n",
       "    <tr>\n",
       "      <th>3</th>\n",
       "      <td>10032</td>\n",
       "      <td>2008-04-30</td>\n",
       "      <td>0.872003</td>\n",
       "      <td>-0.141176</td>\n",
       "      <td>1.051047e+09</td>\n",
       "      <td>3.0</td>\n",
       "    </tr>\n",
       "    <tr>\n",
       "      <th>4</th>\n",
       "      <td>10032</td>\n",
       "      <td>2008-06-30</td>\n",
       "      <td>0.829645</td>\n",
       "      <td>-0.019483</td>\n",
       "      <td>1.104709e+09</td>\n",
       "      <td>2.0</td>\n",
       "    </tr>\n",
       "  </tbody>\n",
       "</table>\n",
       "</div>"
      ],
      "text/plain": [
       "   permno      month        AM       ret       mkt_cap  quantile\n",
       "0   10032 2008-01-31  0.763326 -0.139756  1.049961e+09       2.0\n",
       "1   10032 2008-02-29  0.695966  0.096503  1.151582e+09       2.0\n",
       "2   10032 2008-03-31  0.748897  0.132418  1.223822e+09       2.0\n",
       "3   10032 2008-04-30  0.872003 -0.141176  1.051047e+09       3.0\n",
       "4   10032 2008-06-30  0.829645 -0.019483  1.104709e+09       2.0"
      ]
     },
     "execution_count": 48,
     "metadata": {},
     "output_type": "execute_result"
    }
   ],
   "source": [
    "merged_large.head()"
   ]
  },
  {
   "cell_type": "code",
   "execution_count": 49,
   "id": "aac8f351",
   "metadata": {},
   "outputs": [
    {
     "data": {
      "text/plain": [
       "permno               int64\n",
       "month       datetime64[ns]\n",
       "AM                 float64\n",
       "ret                float64\n",
       "mkt_cap            float64\n",
       "quantile           float64\n",
       "dtype: object"
      ]
     },
     "execution_count": 49,
     "metadata": {},
     "output_type": "execute_result"
    }
   ],
   "source": [
    "merged_large.dtypes"
   ]
  },
  {
   "cell_type": "code",
   "execution_count": 50,
   "id": "7d31ca54",
   "metadata": {},
   "outputs": [],
   "source": [
    "# Force 'ret' to numeric and drop bad rows\n",
    "merged_large['ret'] = pd.to_numeric(merged_large['ret'], errors='coerce')\n",
    "merged_large = merged_large.dropna(subset=['ret'])"
   ]
  },
  {
   "cell_type": "code",
   "execution_count": 56,
   "id": "2b9f798a",
   "metadata": {},
   "outputs": [
    {
     "data": {
      "image/png": "[encoded data removed]",
      "text/plain": [
       "<Figure size 800x500 with 1 Axes>"
      ]
     },
     "metadata": {},
     "output_type": "display_data"
    }
   ],
   "source": [
    "plt.figure(figsize=(8, 5))\n",
    "plt.bar(avg_returns_large['quantile'], avg_returns_large['ret'])\n",
    "plt.xlabel(\"AM Signal Quantile (Large Cap Only)\")\n",
    "plt.ylabel(\"Average Monthly Return\")\n",
    "plt.title(\"2008: AM Signal Performance — Large Cap Stocks Only\")\n",
    "plt.xticks([1, 2, 3, 4, 5])\n",
    "plt.grid(True)\n",
    "plt.tight_layout()\n",
    "plt.show()"
   ]
  },
  {
   "cell_type": "markdown",
   "id": "0511530b",
   "metadata": {},
   "source": [
    "## What the graph shows \n",
    "I looked at just large-cap stocks to see if the AM signal still worked. I grouped the stocks into 5 levels based on their AM score.\n",
    "\n",
    "The ones with higher scores (especially group 5) lost less money during 2008. So the signal still helped, even in a bad year."
   ]
  },
  {
   "cell_type": "code",
   "execution_count": 52,
   "id": "48fc64df",
   "metadata": {},
   "outputs": [],
   "source": [
    "avg_returns_large = merged_large.groupby('quantile')['ret'].mean().reset_index()"
   ]
  }
 ],
 "metadata": {
  "kernelspec": {
   "display_name": "Python 3",
   "language": "python",
   "name": "python3"
  },
  "language_info": {
   "codemirror_mode": {
    "name": "ipython",
    "version": 3
   },
   "file_extension": ".py",
   "mimetype": "text/x-python",
   "name": "python",
   "nbconvert_exporter": "python",
   "pygments_lexer": "ipython3",
   "version": "3.12.1"
  }
 },
 "nbformat": 4,
 "nbformat_minor": 5
}
